{
 "cells": [
  {
   "cell_type": "code",
   "execution_count": 2,
   "metadata": {},
   "outputs": [
    {
     "name": "stdout",
     "output_type": "stream",
     "text": [
      "Hello World\n"
     ]
    }
   ],
   "source": [
    "print(\"Hello World\")"
   ]
  },
  {
   "cell_type": "code",
   "execution_count": null,
   "metadata": {},
   "outputs": [
    {
     "ename": "",
     "evalue": "",
     "output_type": "error",
     "traceback": [
      "\u001b[1;31mFailed to start the Kernel. \n",
      "\u001b[1;31mTraceback (most recent call last):\n",
      "\u001b[1;31m  File \"/Users/peter/.vscode/extensions/ms-toolsai.jupyter-2022.9.1202862440/pythonFiles/vscode_datascience_helpers/jupyter_daemon.py\", line 158, in _start_notebook\n",
      "\u001b[1;31m    from notebook import notebookapp as app\n",
      "\u001b[1;31m  File \"/Users/peter/opt/anaconda3/lib/python3.10/site-packages/notebook/notebookapp.py\", line 43, in <module>\n",
      "\u001b[1;31m    from jinja2 import Environment, FileSystemLoader\n",
      "\u001b[1;31m  File \"/Users/peter/opt/anaconda3/lib/python3.10/site-packages/jinja2/__init__.py\", line 12, in <module>\n",
      "\u001b[1;31m    from .environment import Environment\n",
      "\u001b[1;31m  File \"/Users/peter/opt/anaconda3/lib/python3.10/site-packages/jinja2/environment.py\", line 25, in <module>\n",
      "\u001b[1;31m    from .defaults import BLOCK_END_STRING\n",
      "\u001b[1;31m  File \"/Users/peter/opt/anaconda3/lib/python3.10/site-packages/jinja2/defaults.py\", line 3, in <module>\n",
      "\u001b[1;31m    from .filters import FILTERS as DEFAULT_FILTERS  # noqa: F401\n",
      "\u001b[1;31m  File \"/Users/peter/opt/anaconda3/lib/python3.10/site-packages/jinja2/filters.py\", line 13, in <module>\n",
      "\u001b[1;31m    from markupsafe import soft_unicode\n",
      "\u001b[1;31mImportError: cannot import name 'soft_unicode' from 'markupsafe' (/Users/peter/opt/anaconda3/lib/python3.10/site-packages/markupsafe/__init__.py)\n",
      "\u001b[1;31m\n",
      "\u001b[1;31mDuring handling of the above exception, another exception occurred:\n",
      "\u001b[1;31m\n",
      "\u001b[1;31mTraceback (most recent call last):\n",
      "\u001b[1;31m  File \"/Users/peter/.vscode/extensions/ms-toolsai.jupyter-2022.9.1202862440/pythonFiles/vscode_datascience_helpers/daemon/daemon_python.py\", line 54, in _decorator\n",
      "\u001b[1;31m    return func(self, *args, **kwargs)\n",
      "\u001b[1;31m  File \"/Users/peter/.vscode/extensions/ms-toolsai.jupyter-2022.9.1202862440/pythonFiles/vscode_datascience_helpers/jupyter_daemon.py\", line 111, in m_exec_module_observable\n",
      "\u001b[1;31m    self._start_notebook(args, cwd, env)\n",
      "\u001b[1;31m  File \"/Users/peter/.vscode/extensions/ms-toolsai.jupyter-2022.9.1202862440/pythonFiles/vscode_datascience_helpers/jupyter_daemon.py\", line 160, in _start_notebook\n",
      "\u001b[1;31m    from notebook import app as app\n",
      "\u001b[1;31mImportError: cannot import name 'app' from 'notebook' (/Users/peter/opt/anaconda3/lib/python3.10/site-packages/notebook/__init__.py)\n",
      "\u001b[1;31m\n",
      "\u001b[1;31mFailed to run jupyter as observable with args notebook --no-browser --notebook-dir=\"/Users/peter/Desktop/Lie_Detection\" --config=/var/folders/08/3vv984hx1hbc8q2s5zmg7bmc0000gn/T/fd6c2141-3ddc-4bd6-b5f5-35be45f95e81/jupyter_notebook_config.py --NotebookApp.iopub_data_rate_limit=10000000000.0. \n",
      "\u001b[1;31mView Jupyter <a href='command:jupyter.viewOutput'>log</a> for further details."
     ]
    }
   ],
   "source": [
    "import helpers\n",
    "import dataset\n",
    "\n",
    "import pandas as pd\n",
    "import tensorflow_decision_forests as tfdf\n",
    "from sklearn.ensemble import RandomForestClassifier\n",
    "\n",
    "truthPath = './processed_truth/'\n",
    "liePath = './processed_lie/'\n",
    "\n",
    "testRatio = 0.2\n",
    "\n",
    "Train, Xtrain, Ytrain, Xtest, Ytest = dataset.createDatasetGeneral(truthPath, liePath, testRatio)"
   ]
  },
  {
   "cell_type": "code",
   "execution_count": null,
   "metadata": {},
   "outputs": [],
   "source": [
    "def getTFRF():\n",
    "\n",
    "    dataset = tfdf.keras.pd_dataframe_to_tf_dataset(Train, label=\"Result\")\n",
    "\n",
    "    #https://www.tensorflow.org/decision_forests/api_docs/python/tfdf/keras/RandomForestModel\n",
    "    TFmodel = tfdf.keras.RandomForestModel() #add params\n",
    "    TFmodel.compile()\n",
    "    TFmodel.fit(dataset)\n",
    "\n",
    "    print(TFmodel.summary())\n",
    "\n",
    "    res = pd.DataFrame(TFmodel.predict(tfdf.keras.pd_dataframe_to_tf_dataset(Xtest)))\n",
    "\n",
    "    for i in range(res.shape[0]):\n",
    "        if res.iloc[i,0] > 0.5: \n",
    "            res.iloc[i] = 1 \n",
    "        else:\n",
    "            res.iloc[i] = 0\n",
    "\n",
    "    helpers.displayConfusion(Ytest, res)\n",
    "\n",
    "    return TFmodel"
   ]
  },
  {
   "cell_type": "code",
   "execution_count": null,
   "metadata": {},
   "outputs": [],
   "source": [
    "def getSKRF():\n",
    "\n",
    "    #https://scikit-learn.org/stable/modules/generated/sklearn.ensemble.RandomForestClassifier.html\n",
    "    SKRF = RandomForestClassifier(verbose=2) #add params\n",
    "    SKRF.fit(Xtrain, Ytrain)\n",
    "\n",
    "    helpers.displayConfusion(Ytest, SKRF.predict(Xtest))\n",
    "\n",
    "    return SKRF"
   ]
  },
  {
   "cell_type": "code",
   "execution_count": null,
   "metadata": {},
   "outputs": [],
   "source": [
    "#run the models here\n"
   ]
  }
 ],
 "metadata": {
  "kernelspec": {
   "display_name": "Python 3 (ipykernel)",
   "language": "python",
   "name": "python3"
  },
  "language_info": {
   "codemirror_mode": {
    "name": "ipython",
    "version": 3
   },
   "file_extension": ".py",
   "mimetype": "text/x-python",
   "name": "python",
   "nbconvert_exporter": "python",
   "pygments_lexer": "ipython3",
   "version": "3.10.6"
  },
  "vscode": {
   "interpreter": {
    "hash": "dfb3103950f28c32fdf92e891b1b65efe902a3d841e5cbd9e84a741876c12625"
   }
  }
 },
 "nbformat": 4,
 "nbformat_minor": 2
}
