{
 "cells": [
  {
   "cell_type": "code",
   "execution_count": 1,
   "metadata": {},
   "outputs": [
    {
     "name": "stderr",
     "output_type": "stream",
     "text": [
      "2023-03-10 22:05:30.267258: I tensorflow/core/platform/cpu_feature_guard.cc:193] This TensorFlow binary is optimized with oneAPI Deep Neural Network Library (oneDNN) to use the following CPU instructions in performance-critical operations:  AVX2 FMA\n",
      "To enable them in other operations, rebuild TensorFlow with the appropriate compiler flags.\n"
     ]
    }
   ],
   "source": [
    "import torch\n",
    "import torch.nn as nn\n",
    "from torch.nn import Embedding\n",
    "\n",
    "import numpy as np\n",
    "import matplotlib.pyplot as plt\n",
    "\n",
    "from sklearn.model_selection import train_test_split\n",
    "import dataset\n",
    "import test_lstm"
   ]
  },
  {
   "cell_type": "code",
   "execution_count": 2,
   "metadata": {},
   "outputs": [],
   "source": [
    "lie_trial_path = './processed_lie/' #60 entries\n",
    "truth_trial_path = './processed_truth/' #61 entries\n",
    "MU3D_path = './processed/' # 300 entries"
   ]
  },
  {
   "cell_type": "code",
   "execution_count": 3,
   "metadata": {},
   "outputs": [],
   "source": [
    "# no split by person\n",
    "numOfFrames = 10\n",
    "X, Y = dataset.preprocessing(truth_trial_path, lie_trial_path, numOfFrames=numOfFrames)\n",
    "\n",
    "TEST_RATIO = 0.2\n",
    "\n",
    "xTrain, xTest = train_test_split(X, test_size=TEST_RATIO, shuffle=False)\n",
    "yTrain, yTest = train_test_split(Y, test_size=TEST_RATIO, shuffle=False)"
   ]
  },
  {
   "cell_type": "code",
   "execution_count": 35,
   "metadata": {},
   "outputs": [],
   "source": [
    "class positionalEncoder(nn.Module):\n",
    "\n",
    "  def __init__(self, frame_length, encoding_length):\n",
    "    super().__init__()\n",
    "\n",
    "    embedding = nn.Embedding(frame_length, encoding_length)\n",
    "\n",
    "    self.pe = embedding(torch.tensor([i for i in range(frame_length)]).unsqueeze(1)).squeeze()\n",
    "\n",
    "  def forward(self, x):\n",
    "\n",
    "    embedded = []\n",
    "    for frame in x:\n",
    "      embedded.append(torch.cat((frame, self.pe), 1).detach().numpy())\n",
    "\n",
    "    return torch.tensor(embedded)\n",
    "\n",
    "class classifierNetwork(nn.Module):\n",
    "\n",
    "  def __init__(self, inFeatCount, num_T_layers, num_frames, num_fc_layers = 5, pos_encode_size = 5, n_heads = 5, n_hidden = 500, dropout = 0.3, outFeatCount = 2):\n",
    "    super().__init__()\n",
    "\n",
    "    self.posEncoder = positionalEncoder(num_frames, pos_encode_size)\n",
    "\n",
    "    encoder_layer = nn.TransformerEncoderLayer(inFeatCount + pos_encode_size, n_heads, n_hidden, dropout)\n",
    "    self.encoder = nn.TransformerEncoder(encoder_layer, num_T_layers)\n",
    "\n",
    "    decoder_layer = nn.TransformerDecoderLayer(inFeatCount + pos_encode_size, n_heads)\n",
    "    self.decoder = nn.TransformerDecoder(decoder_layer, num_T_layers)\n",
    "\n",
    "    mid = ((inFeatCount + pos_encode_size) - outFeatCount) // 2 + outFeatCount\n",
    "\n",
    "    self.fc1 = nn.Linear(inFeatCount + pos_encode_size, mid)\n",
    "    self.fc2 = nn.Linear(mid, outFeatCount)\n",
    "\n",
    "    self.init_weights()\n",
    "\n",
    "  def init_weights(self):\n",
    "      initrange = 0.1\n",
    "      self.fc1.bias.data.zero_()\n",
    "      self.fc1.weight.data.uniform_(-initrange, initrange)\n",
    "\n",
    "      self.fc2.bias.data.zero_()\n",
    "      self.fc2.weight.data.uniform_(-initrange, initrange)\n",
    "\n",
    "  def forward(self, x):\n",
    "\n",
    "    encoded = self.posEncoder(x)\n",
    "    data = self.encoder(encoded)\n",
    "    data = self.decoder(encoded, data)\n",
    "\n",
    "    data = self.fc1(data)\n",
    "    data = self.fc2(data)\n",
    "    return nn.functional.softmax(data)      "
   ]
  },
  {
   "cell_type": "code",
   "execution_count": 6,
   "metadata": {},
   "outputs": [],
   "source": [
    "pos_encoder_size = 5\n",
    "device = torch.device(\"cuda\" if torch.cuda.is_available() else \"cpu\")"
   ]
  },
  {
   "cell_type": "code",
   "execution_count": 24,
   "metadata": {},
   "outputs": [
    {
     "name": "stdout",
     "output_type": "stream",
     "text": [
      "(49150, 10, 10)\n"
     ]
    }
   ],
   "source": [
    "#generate embedded data\n",
    "y_Train = []\n",
    "y_Test = []\n",
    "\n",
    "for i in range(yTrain.shape[0]):\n",
    "    if yTrain[i] == 0:\n",
    "        y_Train.append([[1,0],[1,0],[1,0],[1,0],[1,0],[1,0],[1,0],[1,0],[1,0],[1,0]])\n",
    "    else:\n",
    "        y_Train.append([[0,1],[0,1],[0,1],[0,1],[0,1],[0,1],[0,1],[0,1],[0,1],[0,1]])\n",
    "\n",
    "for i in range(yTest.shape[0]):\n",
    "    if yTest[i] == 0:\n",
    "        y_Test.append([[1,0],[1,0],[1,0],[1,0],[1,0],[1,0],[1,0],[1,0],[1,0],[1,0]])\n",
    "    else:\n",
    "        y_Test.append([[0,1],[0,1],[0,1],[0,1],[0,1],[0,1],[0,1],[0,1],[0,1],[0,1]])\n",
    "\n",
    "print(xTrain.shape)"
   ]
  },
  {
   "cell_type": "code",
   "execution_count": 36,
   "metadata": {},
   "outputs": [],
   "source": [
    "featCount = 10\n",
    "num_frames = 10\n",
    "encoder_layers = 2\n",
    "\n",
    "# Input shape = torch.tensor() of shape (num_frames, num_features)\n",
    "# Output shape = list[lie prob, true prob] of shape (num_frames, 2)\n",
    "\n",
    "net = classifierNetwork(featCount, encoder_layers, num_frames)"
   ]
  },
  {
   "cell_type": "code",
   "execution_count": 37,
   "metadata": {},
   "outputs": [
    {
     "name": "stderr",
     "output_type": "stream",
     "text": [
      "/var/folders/66/pn8653k51_75x5ksbpsy8hm80000gn/T/ipykernel_23721/1381004600.py:54: UserWarning: Implicit dimension choice for softmax has been deprecated. Change the call to include dim=X as an argument.\n",
      "  return nn.functional.softmax(data)\n"
     ]
    }
   ],
   "source": [
    "# training\n",
    "import torch.optim as optim\n",
    "\n",
    "def train(model, xTrain, yTrain, xTest, yTest, epochs = 100, lr = 0.001, batch_size = 10):\n",
    "    \"\"\" Train a model on a dataset \"\"\"\n",
    "\n",
    "    loss_items = []\n",
    "    accuracy_items = []\n",
    "    test_accuracy_items = []\n",
    "    \n",
    "    # create a data loader to handle batching\n",
    "    xTrain_loader =  torch.utils.data.DataLoader(xTrain, batch_size=batch_size, shuffle=False)\n",
    "    xTest_loader = torch.utils.data.DataLoader(xTest, batch_size=batch_size, shuffle=False)\n",
    "\n",
    "    # create a loss function and optimizer\n",
    "    loss_fn = nn.CrossEntropyLoss()\n",
    "    optimizer = torch.optim.Adam(model.parameters(), lr=lr)\n",
    "\n",
    "    # train the model\n",
    "    for epoch in range(epochs):\n",
    "\n",
    "        # train\n",
    "\n",
    "        idx = 0\n",
    "        model.train()\n",
    "        for batch in xTrain_loader:\n",
    "\n",
    "            # get data\n",
    "            x_train = batch.to(device).float()\n",
    "            y_train = torch.tensor(yTrain[idx]).to(device)\n",
    "\n",
    "            # forward pass\n",
    "            y_pred = model(x_train)\n",
    "\n",
    "            # compute loss\n",
    "            loss = loss_fn(y_pred, y_train)\n",
    "\n",
    "            # backward pass\n",
    "            loss.backward()\n",
    "\n",
    "            # update weights\n",
    "            optimizer.step()\n",
    "            optimizer.zero_grad()\n",
    "\n",
    "        # evaluate\n",
    "        model.eval()\n",
    "\n",
    "        test_acc = 0\n",
    "        acc = 0\n",
    "        tot_loss = 0\n",
    "\n",
    "        with torch.no_grad():\n",
    "            \n",
    "            idx_test = 0\n",
    "            for batch in xTest_loader:\n",
    "                xTest = batch.to(device).float()\n",
    "                y_pred = model(xTest)\n",
    "                y_test = torch.tensor(yTest[idx_test]).to(device)\n",
    "\n",
    "                # compute test accuracy\n",
    "                test_acc += (y_pred.argmax(0) == y_test).type(torch.float).mean().item()\n",
    "                idx_test += 1\n",
    "                \n",
    "\n",
    "            test_acc /= len(xTest_loader)  \n",
    "            test_accuracy_items.append(test_acc)\n",
    "\n",
    "            idx_train = 0\n",
    "            for batch in xTrain_loader:\n",
    "                xTrain = batch.to(device).float()\n",
    "                y_pred = model(xTrain)\n",
    "                y_train = torch.tensor(yTrain[idx_train]).to(device)\n",
    "\n",
    "                # compute accuracy\n",
    "                acc += (y_pred.argmax(0) == y_train).type(torch.float).mean().item()\n",
    "                idx_train += 1\n",
    "\n",
    "                # computer loss\n",
    "                tot_loss += loss_fn(y_pred, y_train).item()\n",
    "\n",
    "            acc /= len(xTrain_loader)\n",
    "            accuracy_items.append(acc)\n",
    "\n",
    "        # store loss and accuracy\n",
    "        loss_items.append(tot_loss)\n",
    "\n",
    "        # print progress\n",
    "        if (epoch+1) % 1 == 0:\n",
    "            print(f'Epoch {epoch+1}/{epochs}, Loss: {tot_loss:.4f}, Accuracy: {acc:.4f}, Test Accuracy: {test_acc:.4f}')\n",
    "\n",
    "        idx += 1\n",
    "            \n",
    "\n",
    "train(net, xTrain, y_Train, xTest, y_Test)"
   ]
  }
 ],
 "metadata": {
  "kernelspec": {
   "display_name": "base",
   "language": "python",
   "name": "python3"
  },
  "language_info": {
   "codemirror_mode": {
    "name": "ipython",
    "version": 3
   },
   "file_extension": ".py",
   "mimetype": "text/x-python",
   "name": "python",
   "nbconvert_exporter": "python",
   "pygments_lexer": "ipython3",
   "version": "3.8.3"
  },
  "orig_nbformat": 4
 },
 "nbformat": 4,
 "nbformat_minor": 2
}
