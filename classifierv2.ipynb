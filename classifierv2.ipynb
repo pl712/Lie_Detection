{
 "cells": [
  {
   "cell_type": "code",
   "execution_count": null,
   "metadata": {},
   "outputs": [],
   "source": [
    "import torch\n",
    "import torch.nn as nn\n",
    "import torch.optim as optim\n",
    "from torch.utils.data import Dataset, TensorDataset, DataLoader"
   ]
  },
  {
   "cell_type": "code",
   "execution_count": null,
   "metadata": {},
   "outputs": [],
   "source": [
    "class positionalEncoder(nn.Module):\n",
    "\n",
    "  def __init__(self, frame_length, encoding_length):\n",
    "    super().__init__()\n",
    "\n",
    "    embedding = nn.Embedding(frame_length, encoding_length)\n",
    "\n",
    "    self.pe = embedding(torch.tensor([i for i in range(frame_length)]).unsqueeze(1)).squeeze()\n",
    "\n",
    "  def forward(self, x):\n",
    "\n",
    "    return torch.cat((x, self.pe), 1)\n",
    "\n",
    "class classifierNetwork(nn.Module):\n",
    "\n",
    "  def __init__(self, inFeatCount, num_T_layers, num_frames, num_fc_layers = 5, pos_encode_size = 3, n_heads = 5, n_hidden = 500, dropout = 0.3, outFeatCount = 2):\n",
    "    super().__init__()\n",
    "\n",
    "    self.posEncoder = positionalEncoder(num_frames, pos_encode_size)\n",
    "\n",
    "    n_heads = inFeatCount + pos_encode_size\n",
    "\n",
    "    encoder_layer = nn.TransformerEncoderLayer(inFeatCount + pos_encode_size, n_heads, n_hidden, dropout)\n",
    "    self.encoder = nn.TransformerEncoder(encoder_layer, num_T_layers)\n",
    "\n",
    "    decoder_layer = nn.TransformerDecoderLayer(inFeatCount + pos_encode_size, n_heads)\n",
    "    self.decoder = nn.TransformerDecoder(decoder_layer, num_T_layers)\n",
    "\n",
    "    mid = ((inFeatCount + pos_encode_size) - outFeatCount) // 2 + outFeatCount\n",
    "\n",
    "    self.fc1 = nn.Linear(inFeatCount + pos_encode_size, mid)\n",
    "    self.fc2 = nn.Linear(mid, outFeatCount)\n",
    "\n",
    "    self.init_weights()\n",
    "\n",
    "  def init_weights(self):\n",
    "      initrange = 0.1\n",
    "      self.fc1.bias.data.zero_()\n",
    "      self.fc1.weight.data.uniform_(-initrange, initrange)\n",
    "\n",
    "      self.fc2.bias.data.zero_()\n",
    "      self.fc2.weight.data.uniform_(-initrange, initrange)\n",
    "\n",
    "  def forward(self, x):\n",
    "\n",
    "    encoded = self.posEncoder(x)\n",
    "    data = self.encoder(encoded)\n",
    "    data = self.decoder(encoded, data)\n",
    "\n",
    "    data = self.fc1(data)\n",
    "    data = self.fc2(data)\n",
    "    data = nn.functional.softmax(data, dim = 1)      \n",
    "\n",
    "    return data"
   ]
  },
  {
   "cell_type": "code",
   "execution_count": null,
   "metadata": {},
   "outputs": [],
   "source": [
    "featCount = 10\n",
    "num_frames = 20\n",
    "encoder_layers = 2\n",
    "\n",
    "net = classifierNetwork(featCount, encoder_layers, num_frames)\n",
    "\n",
    "#do something"
   ]
  }
 ],
 "metadata": {
  "language_info": {
   "name": "python"
  },
  "orig_nbformat": 4
 },
 "nbformat": 4,
 "nbformat_minor": 2
}
