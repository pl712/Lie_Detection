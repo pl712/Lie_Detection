{
 "cells": [
  {
   "cell_type": "code",
   "execution_count": 10,
   "metadata": {},
   "outputs": [],
   "source": [
    "import helpers\n",
    "import dataset\n",
    "\n",
    "import pandas as pd\n",
    "import tensorflow_decision_forests as tfdf\n",
    "from sklearn.ensemble import RandomForestClassifier\n",
    "\n",
    "truthPath = './processed_truth/'\n",
    "liePath = './processed_lie/'\n",
    "\n",
    "testRatio = 0.2\n",
    "\n",
    "Train, Xtrain, Ytrain, Xtest, Ytest = dataset.createDatasetGeneral(truthPath, liePath, testRatio)"
   ]
  },
  {
   "cell_type": "code",
   "execution_count": null,
   "metadata": {},
   "outputs": [],
   "source": [
    "def getTFRF():\n",
    "\n",
    "    dataset = tfdf.keras.pd_dataframe_to_tf_dataset(Train, label=\"Result\")\n",
    "\n",
    "    #https://www.tensorflow.org/decision_forests/api_docs/python/tfdf/keras/RandomForestModel\n",
    "    TFmodel = tfdf.keras.RandomForestModel() #add params\n",
    "    TFmodel.compile()\n",
    "    TFmodel.fit(dataset)\n",
    "\n",
    "    print(TFmodel.summary())\n",
    "\n",
    "    res = pd.DataFrame(TFmodel.predict(tfdf.keras.pd_dataframe_to_tf_dataset(Xtest)))\n",
    "\n",
    "    for i in range(res.shape[0]):\n",
    "        if res.iloc[i,0] > 0.5: \n",
    "            res.iloc[i] = 1 \n",
    "        else:\n",
    "            res.iloc[i] = 0\n",
    "\n",
    "    helpers.displayConfusion(Ytest, res)\n",
    "\n",
    "    return TFmodel"
   ]
  },
  {
   "cell_type": "code",
   "execution_count": null,
   "metadata": {},
   "outputs": [],
   "source": [
    "def getSKRF():\n",
    "\n",
    "    #https://scikit-learn.org/stable/modules/generated/sklearn.ensemble.RandomForestClassifier.html\n",
    "    SKRF = RandomForestClassifier(verbose=2) #add params\n",
    "    SKRF.fit(Xtrain, Ytrain)\n",
    "\n",
    "    helpers.displayConfusion(Ytest, SKRF.predict(Xtest))\n",
    "\n",
    "    return SKRF"
   ]
  },
  {
   "cell_type": "code",
   "execution_count": null,
   "metadata": {},
   "outputs": [],
   "source": [
    "#run the models here\n"
   ]
  }
 ],
 "metadata": {
  "kernelspec": {
   "display_name": "Python 3.9.13",
   "language": "python",
   "name": "python3"
  },
  "language_info": {
   "codemirror_mode": {
    "name": "ipython",
    "version": 3
   },
   "file_extension": ".py",
   "mimetype": "text/x-python",
   "name": "python",
   "nbconvert_exporter": "python",
   "pygments_lexer": "ipython3",
   "version": "3.9.13"
  },
  "orig_nbformat": 4,
  "vscode": {
   "interpreter": {
    "hash": "1b037dc0b8cce55b345ffb20ca8a1c0e60cf9c1599bb4dc27c6c2465963741a0"
   }
  }
 },
 "nbformat": 4,
 "nbformat_minor": 2
}
