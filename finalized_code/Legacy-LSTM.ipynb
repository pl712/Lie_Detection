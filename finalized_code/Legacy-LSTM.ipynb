{
 "cells": [
  {
   "cell_type": "code",
   "execution_count": 3,
   "metadata": {},
   "outputs": [],
   "source": [
    "import os\n",
    "from sklearn.model_selection import train_test_split\n",
    "\n",
    "from tensorflow.keras.models import Sequential\n",
    "from tensorflow.keras.layers import Dense, Dropout, LSTM\n",
    "from tensorflow.keras.losses import BinaryCrossentropy\n",
    "\n",
    "import dataset\n",
    "import test_lstm\n",
    "\n",
    "os.environ['TF_CPP_MIN_LOG_LEVEL'] = '2' "
   ]
  },
  {
   "cell_type": "code",
   "execution_count": 10,
   "metadata": {},
   "outputs": [],
   "source": [
    "lie_trial_path = ['data/OpenFace/trial/lie/'] #60 entries\n",
    "truth_trial_path = ['data/OpenFace/trial/truth/'] #61 entries"
   ]
  },
  {
   "cell_type": "code",
   "execution_count": 11,
   "metadata": {},
   "outputs": [
    {
     "name": "stdout",
     "output_type": "stream",
     "text": [
      "Processing data/OpenFace/trial/truth/\n"
     ]
    }
   ],
   "source": [
    "# # no split by person\n",
    "X, Y = dataset.preprocessing(truth_trial_path, lie_trial_path, numOfFrames=20)\n",
    "\n",
    "TEST_RATIO = 0.2\n",
    "\n",
    "xTrain, xTest = train_test_split(X, test_size=TEST_RATIO, shuffle=False)\n",
    "yTrain, yTest = train_test_split(Y, test_size=TEST_RATIO, shuffle=False)"
   ]
  },
  {
   "cell_type": "code",
   "execution_count": 4,
   "metadata": {},
   "outputs": [],
   "source": [
    "# split by person\n",
    "# xTrain, yTrain, xTest, yTest = dataset.createDatasetLSTM(lie_trial_path, truth_trial_path, 0.2, byPerson=False)"
   ]
  },
  {
   "cell_type": "code",
   "execution_count": 12,
   "metadata": {},
   "outputs": [
    {
     "name": "stdout",
     "output_type": "stream",
     "text": [
      "Model: \"sequential\"\n",
      "_________________________________________________________________\n",
      " Layer (type)                Output Shape              Param #   \n",
      "=================================================================\n",
      " lstm (LSTM)                 (None, 32)                5504      \n",
      "                                                                 \n",
      " dropout (Dropout)           (None, 32)                0         \n",
      "                                                                 \n",
      " dense (Dense)               (None, 1)                 33        \n",
      "                                                                 \n",
      "=================================================================\n",
      "Total params: 5,537\n",
      "Trainable params: 5,537\n",
      "Non-trainable params: 0\n",
      "_________________________________________________________________\n",
      "Epoch 1/10\n",
      "1381/1381 [==============================] - 12s 7ms/step - loss: 0.4753 - accuracy: 0.7559 - val_loss: 0.4247 - val_accuracy: 0.7856\n",
      "Epoch 2/10\n",
      "1381/1381 [==============================] - 8s 6ms/step - loss: 0.4053 - accuracy: 0.7957 - val_loss: 0.3990 - val_accuracy: 0.7977\n",
      "Epoch 3/10\n",
      "1381/1381 [==============================] - 8s 5ms/step - loss: 0.3716 - accuracy: 0.8140 - val_loss: 0.3778 - val_accuracy: 0.7999\n",
      "Epoch 4/10\n",
      "1381/1381 [==============================] - 7s 5ms/step - loss: 0.3432 - accuracy: 0.8322 - val_loss: 0.3406 - val_accuracy: 0.8326\n",
      "Epoch 5/10\n",
      "1381/1381 [==============================] - 7s 5ms/step - loss: 0.3155 - accuracy: 0.8502 - val_loss: 0.3037 - val_accuracy: 0.8620\n",
      "Epoch 6/10\n",
      "1381/1381 [==============================] - 8s 5ms/step - loss: 0.2918 - accuracy: 0.8666 - val_loss: 0.2896 - val_accuracy: 0.8662\n",
      "Epoch 7/10\n",
      "1381/1381 [==============================] - 8s 6ms/step - loss: 0.2715 - accuracy: 0.8779 - val_loss: 0.2558 - val_accuracy: 0.8866\n",
      "Epoch 8/10\n",
      "1381/1381 [==============================] - 8s 6ms/step - loss: 0.2527 - accuracy: 0.8867 - val_loss: 0.2442 - val_accuracy: 0.8929\n",
      "Epoch 9/10\n",
      "1381/1381 [==============================] - 9s 6ms/step - loss: 0.2403 - accuracy: 0.8936 - val_loss: 0.2306 - val_accuracy: 0.8966\n",
      "Epoch 10/10\n",
      "1381/1381 [==============================] - 8s 6ms/step - loss: 0.2278 - accuracy: 0.9002 - val_loss: 0.2192 - val_accuracy: 0.9018\n"
     ]
    },
    {
     "data": {
      "text/plain": [
       "<keras.callbacks.History at 0x7fdecf14ecd0>"
      ]
     },
     "execution_count": 12,
     "metadata": {},
     "output_type": "execute_result"
    }
   ],
   "source": [
    "LSTM_NEURONS = 32\n",
    "DROPOUT = 0\n",
    "EPOCHS = 10\n",
    "OPTIM = 'adam'\n",
    "# LOSS = 'binary_crossentropy'\n",
    "LOSS = BinaryCrossentropy(from_logits=False)\n",
    "\n",
    "n_inputRows = xTrain.shape[0] \n",
    "n_timesteps = xTrain.shape[1]\n",
    "n_features = xTrain.shape[2]\n",
    "\n",
    "def LSTM_Model(neuro, drop, loss, optim, step, feat):\n",
    "  model = Sequential()\n",
    "  model.add(LSTM(neuro, return_sequences=False, batch_input_shape=(None, step, feat)))\n",
    "  \n",
    "  model.add(Dropout(drop))\n",
    "  model.add(Dense(1, activation='sigmoid')) #softmax\n",
    "\n",
    "  model.compile(loss=loss, optimizer=optim, metrics=['accuracy'])\n",
    "  return model\n",
    "\n",
    "MODEL = LSTM_Model(LSTM_NEURONS, DROPOUT, LOSS, OPTIM, n_timesteps, n_features)\n",
    "MODEL.summary()\n",
    "MODEL.fit(xTrain, yTrain, validation_data=(xTest, yTest), epochs=EPOCHS, verbose=1)\n"
   ]
  },
  {
   "cell_type": "code",
   "execution_count": 6,
   "metadata": {},
   "outputs": [
    {
     "name": "stdout",
     "output_type": "stream",
     "text": [
      "8/8 [==============================] - 0s 2ms/step\n",
      "Accuracy:  0.876\n"
     ]
    }
   ],
   "source": [
    "prediction = MODEL.predict(xTest[0:250])\n",
    "label = yTest[0:250]\n",
    "\n",
    "for i in range(len(prediction)):\n",
    "  if prediction[i] > 0.5:\n",
    "    prediction[i] = 1\n",
    "  else:\n",
    "    prediction[i] = 0\n",
    "\n",
    "accuracy = 0\n",
    "for i in range(len(label)):\n",
    "  if prediction[i] == label[i]:\n",
    "    accuracy += 1\n",
    "  \n",
    "print(\"Accuracy: \", accuracy/len(label))"
   ]
  },
  {
   "cell_type": "code",
   "execution_count": 16,
   "metadata": {},
   "outputs": [
    {
     "name": "stdout",
     "output_type": "stream",
     "text": [
      "11/11 [==============================] - 0s 2ms/step\n",
      "test.csv  accuracy:  0.7363896848137536  label:  0\n",
      "39/39 [==============================] - 0s 1ms/step\n",
      "test4.csv  accuracy:  0.33387227162489896  label:  0\n",
      "35/35 [==============================] - 0s 1ms/step\n",
      "test5.csv  accuracy:  0.09332113449222323  label:  0\n",
      "34/34 [==============================] - 0s 1ms/step\n",
      "test2.csv  accuracy:  0.48402255639097747  label:  0\n",
      "23/23 [==============================] - 0s 1ms/step\n",
      "test3.csv  accuracy:  0.4201909959072306  label:  0\n",
      "17/17 [==============================] - 0s 2ms/step\n",
      "test1.csv  accuracy:  0.005628517823639775  label:  0\n"
     ]
    }
   ],
   "source": [
    "import importlib\n",
    "importlib.reload(test_lstm)\n",
    "\n",
    "lie_test_path = './test/Deceptive/processed/'\n",
    "label = 0\n",
    "\n",
    "prediction_test = test_lstm.perdictSingleVideo(lie_test_path, MODEL, label, numOfFrames=10)"
   ]
  }
 ],
 "metadata": {
  "kernelspec": {
   "display_name": "Python 3.8.3 ('base')",
   "language": "python",
   "name": "python3"
  },
  "language_info": {
   "codemirror_mode": {
    "name": "ipython",
    "version": 3
   },
   "file_extension": ".py",
   "mimetype": "text/x-python",
   "name": "python",
   "nbconvert_exporter": "python",
   "pygments_lexer": "ipython3",
   "version": "3.8.3"
  },
  "vscode": {
   "interpreter": {
    "hash": "24b17b925cb255c3f5f9d44279af6acbce2f518dd20c49d83bc1f6775a53d6cb"
   }
  }
 },
 "nbformat": 4,
 "nbformat_minor": 2
}
