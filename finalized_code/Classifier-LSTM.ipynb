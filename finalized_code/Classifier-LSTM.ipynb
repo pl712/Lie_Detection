{
 "cells": [
  {
   "cell_type": "code",
   "execution_count": 1,
   "metadata": {
    "colab": {
     "base_uri": "https://localhost:8080/",
     "height": 365
    },
    "id": "IfbJrWtdBO32",
    "outputId": "db080630-9ec2-479c-be94-d1cc68e59007"
   },
   "outputs": [],
   "source": [
    "import torch\n",
    "import torch.nn as nn\n",
    "import torch.optim as optim\n",
    "from torch.utils.data import DataLoader\n",
    "\n",
    "import numpy as np\n",
    "import pandas as pd\n",
    "import matplotlib.pyplot as plt\n",
    "from sklearn.model_selection import train_test_split\n",
    "import helpers\n",
    "import os, random"
   ]
  },
  {
   "cell_type": "code",
   "execution_count": 2,
   "metadata": {
    "id": "RvnCFbDsBO34"
   },
   "outputs": [],
   "source": [
    "#Model - LSTM\n",
    "class classifierLSTM(nn.Module):\n",
    "  \n",
    "  def __init__(self, input_size, hidden_size, frame_count, device, dropout = 0.3, output_size = 2):\n",
    "    super().__init__()\n",
    "    \n",
    "    self.lstm = nn.LSTM(input_size, hidden_size, batch_first=True)\n",
    "    self.dropout = nn.Dropout(dropout)\n",
    "    self.fc = nn.Linear((hidden_size * frame_count), output_size)\n",
    "    self.device = device\n",
    "\n",
    "  def forward(self, x):\n",
    "    # x = x.unsqueeze(0)\n",
    "    pred, _ = self.lstm(x)\n",
    "    dropped = self.dropout(pred)\n",
    "    data = dropped.reshape((dropped.shape[0], -1))\n",
    "    data = self.fc(data)\n",
    "    return data"
   ]
  },
  {
   "cell_type": "markdown",
   "metadata": {},
   "source": [
    "DATA PREP"
   ]
  },
  {
   "cell_type": "code",
   "execution_count": 3,
   "metadata": {},
   "outputs": [
    {
     "name": "stdout",
     "output_type": "stream",
     "text": [
      "There are 475920 batches, each with 10 frames and 10 features. Together there are 47592000 data points and 4759200 frames.\n"
     ]
    }
   ],
   "source": [
    "lie_trial_path = './data/OpenFace/trial/lie/' #60 entries\n",
    "truth_trial_path = './data/OpenFace/trial/truth/' #61 entries\n",
    "\n",
    "lie_MU3D_path = './data/OpenFace/MU3D/lie/' \n",
    "truth_MU3D_path = './data/OpenFace/MU3D/truth/'\n",
    "\n",
    "lie_BOL_path = './data/OpenFace/BOL/lie/' \n",
    "truth_BOL_path = './data/OpenFace/BOL/truth/' \n",
    "\n",
    "OFTruth = [truth_trial_path, truth_MU3D_path, truth_BOL_path]\n",
    "OFLie = [lie_trial_path, lie_MU3D_path, lie_BOL_path]\n",
    "\n",
    "lie_trial_path = './data/TransFormer/trial/lie/' #60 entries\n",
    "truth_trial_path = './data/TransFormer/trial/truth/' #61 entries\n",
    "\n",
    "lie_MU3D_path = './data/TransFormer/MU3D/lie/'\n",
    "truth_MU3D_path = './data/TransFormer/MU3D/truth/'\n",
    "\n",
    "lie_BOL_path = './data/TransFormer/BOL/lie/'\n",
    "truth_BOL_path = './data/TransFormer/BOL/truth/'\n",
    "\n",
    "TTruth = [truth_trial_path, truth_MU3D_path, truth_BOL_path]\n",
    "TLie = [lie_trial_path, lie_MU3D_path, lie_BOL_path]\n",
    "\n",
    "features = [\"gaze_0_x\",\"gaze_0_y\",\"gaze_0_z\",\"gaze_angle_x\", \"gaze_angle_y\", \"AU01_r\",\"AU04_r\",\"AU10_r\",\"AU12_r\",\"AU45_r\"]\n",
    "\n",
    "# 0 = Openface\n",
    "# 1 = Openface + TransFormer\n",
    "# 2 = TransFormer\n",
    "\n",
    "mode = 0\n",
    "\n",
    "def processingOF(truthPath, liePath, minConfidence = 0.9, numOfFrames = 10):\n",
    "\n",
    "    data = []\n",
    "    label = []\n",
    "\n",
    "    #truthPath is going to be a list of paths\n",
    "    for path in truthPath:\n",
    "        for file in sorted(os.listdir(path)):\n",
    "            if file.endswith(\".csv\"):\n",
    "                df = pd.read_csv(path + file)\n",
    "            \n",
    "                truth_bad_frame = set(np.where(df[\"confidence\"] < minConfidence)[0])\n",
    "                df = helpers.filterColumn(df, colList=features)\n",
    "\n",
    "                index = numOfFrames\n",
    "                next_index = numOfFrames\n",
    "                \n",
    "                while index < len(df):\n",
    "                    if index not in truth_bad_frame and index >= next_index:\n",
    "                        data.append((df.iloc[index-numOfFrames:index]).to_numpy())\n",
    "                        label.append(1)\n",
    "                    elif index in truth_bad_frame:\n",
    "                        next_index = index + numOfFrames\n",
    "                    index += 1\n",
    "\n",
    "    for path in liePath:\n",
    "        for file in sorted(os.listdir(path)):\n",
    "            if file.endswith(\".csv\"):\n",
    "                df = pd.read_csv(path + file)\n",
    "            \n",
    "                lie_bad_frame = set(np.where(df[\"confidence\"] < minConfidence)[0])\n",
    "                df = helpers.filterColumn(df, colList=features)\n",
    "\n",
    "                index = numOfFrames\n",
    "                next_index = numOfFrames\n",
    "                \n",
    "                while index < len(df):\n",
    "                    if index not in lie_bad_frame and index >= next_index:\n",
    "                        data.append((df.iloc[index-numOfFrames:index]).to_numpy())\n",
    "                        label.append(0)\n",
    "                    elif index in lie_bad_frame:\n",
    "                        next_index = index + numOfFrames\n",
    "                    index += 1\n",
    "\n",
    "    data = np.array(data)\n",
    "    label = np.array(label)\n",
    "    random.seed(random.randint(1, 100))\n",
    "\n",
    "    # Create an array of indices, then shuffle it\n",
    "    indices = np.arange(len(data)).astype(int)\n",
    "    np.random.shuffle(indices)\n",
    "\n",
    "    # Same order of indices for both X and Y\n",
    "    data  = data[indices]\n",
    "    label = label[indices]\n",
    "\n",
    "    return data, label, truth_bad_frame, lie_bad_frame\n",
    "\n",
    "def processingTF(truthPath, liePath, numOfFrames = 10, combine = False, truth_bad_frame = None, lie_bad_frame = None):\n",
    "                \n",
    "        data = []\n",
    "        label = []\n",
    "    \n",
    "        #truthPath is going to be a list of paths\n",
    "        for path in truthPath:\n",
    "            for file in sorted(os.listdir(path)):\n",
    "                if file.endswith(\".csv\"):\n",
    "                    df = pd.read_csv(path + file)\n",
    "    \n",
    "                    index = numOfFrames\n",
    "                    next_index = numOfFrames\n",
    "                    \n",
    "                    while index < len(df):\n",
    "\n",
    "                        if combine:\n",
    "                            if index not in truth_bad_frame and index >= next_index:\n",
    "                                data.append((df.iloc[index-numOfFrames:index]).to_numpy())\n",
    "                                label.append(1)\n",
    "                            else:\n",
    "                                next_index = index + numOfFrames\n",
    "                        else:\n",
    "                            data.append((df.iloc[index-numOfFrames:index]).to_numpy())\n",
    "                            label.append(1)\n",
    "                        \n",
    "                        index += 1\n",
    "    \n",
    "        for path in liePath:\n",
    "            for file in sorted(os.listdir(path)):\n",
    "                if file.endswith(\".csv\"):\n",
    "                    df = pd.read_csv(path + file)\n",
    "    \n",
    "                    index = numOfFrames\n",
    "                    next_index = numOfFrames\n",
    "                    \n",
    "                    if combine:\n",
    "                        if index not in lie_bad_frame and index >= next_index:\n",
    "                            data.append((df.iloc[index-numOfFrames:index]).to_numpy())\n",
    "                            label.append(0)\n",
    "                        else:\n",
    "                            next_index = index + numOfFrames\n",
    "                    else:\n",
    "                        data.append((df.iloc[index-numOfFrames:index]).to_numpy())\n",
    "                        label.append(0)\n",
    "                    \n",
    "                    index += 1\n",
    "    \n",
    "        data = np.array(data)\n",
    "        label = np.array(label)\n",
    "        random.seed(random.randint(1, 100))\n",
    "    \n",
    "        # Create an array of indices, then shuffle it\n",
    "        indices = np.arange(len(data)).astype(int)\n",
    "        np.random.shuffle(indices)\n",
    "    \n",
    "        # Same order of indices for both X and Y\n",
    "        data  = data[indices]\n",
    "        label = label[indices]\n",
    "    \n",
    "        if combine:\n",
    "            data = np.reshape(data, (data.shape[0], data.shape[1] * data.shape[2]))\n",
    "    \n",
    "        return data, label\n",
    "\n",
    "if mode == 0:\n",
    "    X, Y, _, _ = processingOF(OFTruth, OFLie)\n",
    "elif mode == 1:\n",
    "    X1, Y, TB, LB = processingOF(OFTruth, OFLie)\n",
    "    X2, _ = processingTF(TTruth, TLie, combine = True, truth_bad_frame = TB, lie_bad_frame = LB)\n",
    "    X = np.concatenate((X1, X2), axis = 1)\n",
    "elif mode == 2:\n",
    "    X, Y = processingTF(TTruth, TLie, combine = False)\n",
    "\n",
    "print(f'There are {X.shape[0]} batches, each with {X.shape[1]} frames and {X.shape[2]} features. Together there are {X.shape[0] * X.shape[1] * X.shape[2]} data points and {X.shape[0] * X.shape[1]} frames.')"
   ]
  },
  {
   "cell_type": "code",
   "execution_count": 4,
   "metadata": {
    "id": "oLnPps3pLZ8J"
   },
   "outputs": [],
   "source": [
    "device = torch.device(\"cuda\" if torch.cuda.is_available() else \"cpu\")\n",
    "\n",
    "# no split by person\n",
    "numOfFrames = 10\n",
    "\n",
    "TEST_RATIO = 0.2\n",
    "\n",
    "xTrain, xTest = train_test_split(X, test_size=TEST_RATIO, shuffle=False)\n",
    "yTrain, yTest = train_test_split(Y, test_size=TEST_RATIO, shuffle=False)\n",
    "\n",
    "yTrain_temp, yTest_temp = [], []\n",
    "\n",
    "for i in range(yTrain.shape[0]):\n",
    "    yTrain_temp.append([1,0]) if yTrain[i] == 0 else yTrain_temp.append([0,1])\n",
    "\n",
    "for i in range(yTest.shape[0]):\n",
    "    yTest_temp.append([1,0]) if yTest[i] == 0 else yTest_temp.append([0,1])\n",
    "\n",
    "y_Train = torch.tensor(yTrain_temp).to(device)\n",
    "y_Test = torch.tensor(yTest_temp).to(device)\n",
    "\n",
    "x_Train = torch.tensor(xTrain, dtype=torch.float32).to(device)\n",
    "x_Test = torch.tensor(xTest, dtype=torch.float32).to(device)"
   ]
  },
  {
   "cell_type": "code",
   "execution_count": 5,
   "metadata": {},
   "outputs": [
    {
     "name": "stdout",
     "output_type": "stream",
     "text": [
      "torch.Size([380736, 10, 10])\n"
     ]
    }
   ],
   "source": [
    "print(x_Train.shape)"
   ]
  },
  {
   "cell_type": "markdown",
   "metadata": {},
   "source": [
    "TRAINING"
   ]
  },
  {
   "cell_type": "code",
   "execution_count": 6,
   "metadata": {
    "colab": {
     "base_uri": "https://localhost:8080/",
     "height": 371
    },
    "id": "mJ0fNSMADvms",
    "outputId": "743ee446-dddd-4e2a-c92e-5906f25db492"
   },
   "outputs": [
    {
     "name": "stdout",
     "output_type": "stream",
     "text": [
      "Epoch 1/100, Loss: 0.6638, Accuracy: 0.5615\n",
      "Epoch 1/100, Test Accuracy: 0.5754\n"
     ]
    },
    {
     "ename": "KeyboardInterrupt",
     "evalue": "",
     "output_type": "error",
     "traceback": [
      "\u001b[0;31m---------------------------------------------------------------------------\u001b[0m",
      "\u001b[0;31mKeyboardInterrupt\u001b[0m                         Traceback (most recent call last)",
      "\u001b[0;32m/var/folders/by/2_rfh0mx41n1pmwkngpd5cd00000gn/T/ipykernel_39020/1774697822.py\u001b[0m in \u001b[0;36m<module>\u001b[0;34m\u001b[0m\n\u001b[1;32m     90\u001b[0m                 \u001b[0mprint\u001b[0m\u001b[0;34m(\u001b[0m\u001b[0;34mf'Epoch {epoch+1}/{epochs}, Test Accuracy: {test_acc:.4f}'\u001b[0m\u001b[0;34m)\u001b[0m\u001b[0;34m\u001b[0m\u001b[0;34m\u001b[0m\u001b[0m\n\u001b[1;32m     91\u001b[0m \u001b[0;34m\u001b[0m\u001b[0m\n\u001b[0;32m---> 92\u001b[0;31m \u001b[0mtrain\u001b[0m\u001b[0;34m(\u001b[0m\u001b[0mLSTM\u001b[0m\u001b[0;34m,\u001b[0m \u001b[0mx_Train\u001b[0m\u001b[0;34m,\u001b[0m \u001b[0my_Train\u001b[0m\u001b[0;34m,\u001b[0m \u001b[0mx_Test\u001b[0m\u001b[0;34m,\u001b[0m \u001b[0my_Test\u001b[0m\u001b[0;34m)\u001b[0m\u001b[0;34m\u001b[0m\u001b[0;34m\u001b[0m\u001b[0m\n\u001b[0m",
      "\u001b[0;32m/var/folders/by/2_rfh0mx41n1pmwkngpd5cd00000gn/T/ipykernel_39020/1774697822.py\u001b[0m in \u001b[0;36mtrain\u001b[0;34m(model, xTrain, yTrain, xTest, yTest, epochs, lr, batch_size)\u001b[0m\n\u001b[1;32m     55\u001b[0m \u001b[0;34m\u001b[0m\u001b[0m\n\u001b[1;32m     56\u001b[0m             \u001b[0;31m# backward pass\u001b[0m\u001b[0;34m\u001b[0m\u001b[0;34m\u001b[0m\u001b[0m\n\u001b[0;32m---> 57\u001b[0;31m             \u001b[0mloss\u001b[0m\u001b[0;34m.\u001b[0m\u001b[0mbackward\u001b[0m\u001b[0;34m(\u001b[0m\u001b[0;34m)\u001b[0m\u001b[0;34m\u001b[0m\u001b[0;34m\u001b[0m\u001b[0m\n\u001b[0m\u001b[1;32m     58\u001b[0m \u001b[0;34m\u001b[0m\u001b[0m\n\u001b[1;32m     59\u001b[0m             \u001b[0;31m# update weights\u001b[0m\u001b[0;34m\u001b[0m\u001b[0;34m\u001b[0m\u001b[0m\n",
      "\u001b[0;32m~/opt/anaconda3/lib/python3.9/site-packages/torch/_tensor.py\u001b[0m in \u001b[0;36mbackward\u001b[0;34m(self, gradient, retain_graph, create_graph, inputs)\u001b[0m\n\u001b[1;32m    486\u001b[0m                 \u001b[0minputs\u001b[0m\u001b[0;34m=\u001b[0m\u001b[0minputs\u001b[0m\u001b[0;34m,\u001b[0m\u001b[0;34m\u001b[0m\u001b[0;34m\u001b[0m\u001b[0m\n\u001b[1;32m    487\u001b[0m             )\n\u001b[0;32m--> 488\u001b[0;31m         torch.autograd.backward(\n\u001b[0m\u001b[1;32m    489\u001b[0m             \u001b[0mself\u001b[0m\u001b[0;34m,\u001b[0m \u001b[0mgradient\u001b[0m\u001b[0;34m,\u001b[0m \u001b[0mretain_graph\u001b[0m\u001b[0;34m,\u001b[0m \u001b[0mcreate_graph\u001b[0m\u001b[0;34m,\u001b[0m \u001b[0minputs\u001b[0m\u001b[0;34m=\u001b[0m\u001b[0minputs\u001b[0m\u001b[0;34m\u001b[0m\u001b[0;34m\u001b[0m\u001b[0m\n\u001b[1;32m    490\u001b[0m         )\n",
      "\u001b[0;32m~/opt/anaconda3/lib/python3.9/site-packages/torch/autograd/__init__.py\u001b[0m in \u001b[0;36mbackward\u001b[0;34m(tensors, grad_tensors, retain_graph, create_graph, grad_variables, inputs)\u001b[0m\n\u001b[1;32m    195\u001b[0m     \u001b[0;31m# some Python versions print out the first line of a multi-line function\u001b[0m\u001b[0;34m\u001b[0m\u001b[0;34m\u001b[0m\u001b[0m\n\u001b[1;32m    196\u001b[0m     \u001b[0;31m# calls in the traceback and some print out the last line\u001b[0m\u001b[0;34m\u001b[0m\u001b[0;34m\u001b[0m\u001b[0m\n\u001b[0;32m--> 197\u001b[0;31m     Variable._execution_engine.run_backward(  # Calls into the C++ engine to run the backward pass\n\u001b[0m\u001b[1;32m    198\u001b[0m         \u001b[0mtensors\u001b[0m\u001b[0;34m,\u001b[0m \u001b[0mgrad_tensors_\u001b[0m\u001b[0;34m,\u001b[0m \u001b[0mretain_graph\u001b[0m\u001b[0;34m,\u001b[0m \u001b[0mcreate_graph\u001b[0m\u001b[0;34m,\u001b[0m \u001b[0minputs\u001b[0m\u001b[0;34m,\u001b[0m\u001b[0;34m\u001b[0m\u001b[0;34m\u001b[0m\u001b[0m\n\u001b[1;32m    199\u001b[0m         allow_unreachable=True, accumulate_grad=True)  # Calls into the C++ engine to run the backward pass\n",
      "\u001b[0;31mKeyboardInterrupt\u001b[0m: "
     ]
    }
   ],
   "source": [
    "import warnings\n",
    "warnings.filterwarnings(\"ignore\")\n",
    "\n",
    "#model prep\n",
    "featCount = 10\n",
    "num_frames = 10\n",
    "encoder_layers = 2\n",
    "LSTM_hidden = 256\n",
    "\n",
    "LSTM = classifierLSTM(featCount, LSTM_hidden, num_frames, device)\n",
    "\n",
    "# training\n",
    "def train(model, xTrain, yTrain, xTest, yTest, epochs = 100, lr = 0.005, batch_size = 10):\n",
    "    \"\"\" Train a model on a dataset \"\"\"\n",
    "    \n",
    "    # create a data loader to handle batching\n",
    "    xTrain_loader =  torch.utils.data.DataLoader(xTrain, batch_size=batch_size, shuffle=False)\n",
    "    xTest_loader = torch.utils.data.DataLoader(xTest, batch_size=batch_size, shuffle=False)\n",
    "\n",
    "    # create a loss function and optimizer\n",
    "    loss_fn = nn.CrossEntropyLoss()\n",
    "    optimizer = torch.optim.Adam(model.parameters(), lr=lr)\n",
    "\n",
    "    # train the model\n",
    "    for epoch in range(epochs):\n",
    "\n",
    "        # train\n",
    "\n",
    "        idx = 0\n",
    "        model.train()\n",
    "\n",
    "        tot_loss = 0\n",
    "        tot_acc = 0\n",
    "        for batch in xTrain_loader:\n",
    "\n",
    "            # get data\n",
    "            x_train = batch.to(device).float()\n",
    "            y_train = torch.tensor(yTrain[idx:min(idx+batch_size,len(yTrain))]).float().clone().detach().to(device)\n",
    "            \n",
    "            optimizer.zero_grad()\n",
    "\n",
    "            # forward pass\n",
    "            y_pred = model(x_train)\n",
    "\n",
    "            actual_batch = torch.argmax(y_train, dim=1).long()\n",
    "            my_pred_batch = torch.argmax(y_pred, dim=1).long()\n",
    "            tot_acc += ((actual_batch == my_pred_batch).sum().item() / len(actual_batch))\n",
    "            #print(\"actual for batch \", idx, \" is \", torch.argmax(y_train, dim=1).long())\n",
    "            #print(\"my prediction for batch \", idx, \" is \", torch.argmax(y_pred, dim=1).long())\n",
    "\n",
    "            # compute loss\n",
    "            loss = loss_fn(y_pred,torch.argmax(y_train, dim=1).long())\n",
    "\n",
    "            tot_loss += loss.item()\n",
    "\n",
    "            # backward pass\n",
    "            loss.backward()\n",
    "\n",
    "            # update weights\n",
    "            optimizer.step()\n",
    "\n",
    "            idx += batch_size\n",
    "            \n",
    "        total_loss = tot_loss / len(xTrain_loader)\n",
    "        total_acc = tot_acc / len(xTrain_loader)\n",
    "        print(f'Epoch {epoch+1}/{epochs}, Loss: {total_loss:.4f}, Accuracy: {total_acc:.4f}')\n",
    "\n",
    "        # evaluate\n",
    "        model.eval()\n",
    "\n",
    "        if epoch % 10 == 0:\n",
    "\n",
    "            with torch.no_grad():\n",
    "            \n",
    "                idx_test = 0\n",
    "                test_acc = 0\n",
    "                for batch in xTest_loader:\n",
    "                    xTest = batch.to(device).float()\n",
    "                    y_test = torch.tensor(yTest[idx_test:min(idx_test+batch_size,len(yTest))]).float().clone().detach().to(device)\n",
    "                    y_pred = model(xTest)\n",
    "\n",
    "                    actual_batch = torch.argmax(y_test, dim=1).long()\n",
    "                    my_pred_batch = torch.argmax(y_pred, dim=1).long()\n",
    "\n",
    "                    #compute test accuracy\n",
    "                    test_acc += (actual_batch == my_pred_batch).float().mean().item()\n",
    "                    idx_test += batch_size\n",
    "\n",
    "                test_acc /= len(xTest_loader)\n",
    "                print(f'Epoch {epoch+1}/{epochs}, Test Accuracy: {test_acc:.4f}')  \n",
    "\n",
    "train(LSTM, x_Train, y_Train, x_Test, y_Test)"
   ]
  },
  {
   "cell_type": "code",
   "execution_count": 7,
   "metadata": {},
   "outputs": [
    {
     "name": "stdout",
     "output_type": "stream",
     "text": [
      "{'method': 'random',\n",
      " 'metric': {'goal': 'minimize', 'name': 'loss'},\n",
      " 'parameters': {'batch_size': {'distribution': 'q_log_uniform_values',\n",
      "                               'max': 256,\n",
      "                               'min': 32,\n",
      "                               'q': 8},\n",
      "                'epochs': {'value': 100},\n",
      "                'fc_layer_size': {'values': [128, 256, 512]},\n",
      "                'learning_rate': {'distribution': 'uniform',\n",
      "                                  'max': 0.1,\n",
      "                                  'min': 0}}}\n"
     ]
    }
   ],
   "source": [
    "sweep_config = {\n",
    "    'method': 'random'\n",
    "    }\n",
    "# we can choose from random, grid, and bayes\n",
    "\n",
    "## The followings are necessary for bayes method\n",
    "metric = {\n",
    "    'name': 'loss',\n",
    "    'goal': 'minimize'   \n",
    "    }\n",
    "\n",
    "sweep_config['metric'] = metric\n",
    "\n",
    "parameters_dict = {\n",
    "    'fc_layer_size': {\n",
    "        'values': [128, 256, 512]\n",
    "        },\n",
    "    }\n",
    "\n",
    "sweep_config['parameters'] = parameters_dict\n",
    "\n",
    "# Parameters we don't want to vary\n",
    "parameters_dict.update({\n",
    "    'epochs': {'value': 100}\n",
    "    })\n",
    "\n",
    "parameters_dict.update({\n",
    "    'learning_rate': {\n",
    "        # a flat distribution between 0 and 0.1\n",
    "        'distribution': 'uniform',\n",
    "        'min': 0,\n",
    "        'max': 0.1\n",
    "      },\n",
    "    'batch_size': {\n",
    "        # integers between 32 and 256\n",
    "        # with evenly-distributed logarithms \n",
    "        'distribution': 'q_log_uniform_values',\n",
    "        'q': 8,\n",
    "        'min': 32,\n",
    "        'max': 256,\n",
    "      }\n",
    "    })\n",
    "\n",
    "import pprint\n",
    "\n",
    "pprint.pprint(sweep_config)"
   ]
  },
  {
   "cell_type": "code",
   "execution_count": 8,
   "metadata": {},
   "outputs": [
    {
     "name": "stderr",
     "output_type": "stream",
     "text": [
      "Failed to detect the name of this notebook, you can set it manually with the WANDB_NOTEBOOK_NAME environment variable to enable code saving.\n",
      "\u001b[34m\u001b[1mwandb\u001b[0m: Currently logged in as: \u001b[33mellali2023\u001b[0m (\u001b[33mdeception_449\u001b[0m). Use \u001b[1m`wandb login --relogin`\u001b[0m to force relogin\n"
     ]
    },
    {
     "name": "stdout",
     "output_type": "stream",
     "text": [
      "file exists? True\n"
     ]
    }
   ],
   "source": [
    "import wandb\n",
    "wandb.login()\n",
    "print(\"file exists?\", os.path.exists('Classifier-LSTM.ipynb'))\n",
    "os.environ[\"WANDB_NOTEBOOK_NAME\"] = \"Classifier-LSTM.ipynb\"\n",
    "\n",
    "def sweep(config=None):\n",
    "    global counter\n",
    "    counter+=1\n",
    "    with wandb.init(config=config, name = f\"Experiment{counter}\"):\n",
    "        # If called by wandb.agent, as below,\n",
    "        # this config will be set by Sweep Controller\n",
    "        config = wandb.config\n",
    "        print(config)\n",
    "        train(LSTM, x_Train, y_Train, x_Test, y_Test, epochs = config.epochs, lr = config.learning_rate, batch_size = config.batch_size)\n",
    "        wandb.finish()"
   ]
  },
  {
   "cell_type": "code",
   "execution_count": 9,
   "metadata": {},
   "outputs": [
    {
     "name": "stdout",
     "output_type": "stream",
     "text": [
      "Create sweep with ID: wut1tkkz\n",
      "Sweep URL: https://wandb.ai/deception_449/Classifier_LSTM/sweeps/wut1tkkz\n"
     ]
    },
    {
     "name": "stderr",
     "output_type": "stream",
     "text": [
      "\u001b[34m\u001b[1mwandb\u001b[0m: Agent Starting Run: 8vw1i5uy with config:\n",
      "\u001b[34m\u001b[1mwandb\u001b[0m: \tbatch_size: 64\n",
      "\u001b[34m\u001b[1mwandb\u001b[0m: \tepochs: 100\n",
      "\u001b[34m\u001b[1mwandb\u001b[0m: \tfc_layer_size: 512\n",
      "\u001b[34m\u001b[1mwandb\u001b[0m: \tlearning_rate: 0.05244019160850472\n"
     ]
    },
    {
     "data": {
      "text/html": [
       "Tracking run with wandb version 0.14.0"
      ],
      "text/plain": [
       "<IPython.core.display.HTML object>"
      ]
     },
     "metadata": {},
     "output_type": "display_data"
    },
    {
     "data": {
      "text/html": [
       "Run data is saved locally in <code>/Users/ellali/Documents/GitHub/Lie_Detection/finalized_code/wandb/run-20230316_201954-8vw1i5uy</code>"
      ],
      "text/plain": [
       "<IPython.core.display.HTML object>"
      ]
     },
     "metadata": {},
     "output_type": "display_data"
    },
    {
     "data": {
      "text/html": [
       "Syncing run <strong><a href='https://wandb.ai/deception_449/Classifier_LSTM/runs/8vw1i5uy' target=\"_blank\">Experiment1</a></strong> to <a href='https://wandb.ai/deception_449/Classifier_LSTM' target=\"_blank\">Weights & Biases</a> (<a href='https://wandb.me/run' target=\"_blank\">docs</a>)<br/>Sweep page: <a href='https://wandb.ai/deception_449/Classifier_LSTM/sweeps/wut1tkkz' target=\"_blank\">https://wandb.ai/deception_449/Classifier_LSTM/sweeps/wut1tkkz</a>"
      ],
      "text/plain": [
       "<IPython.core.display.HTML object>"
      ]
     },
     "metadata": {},
     "output_type": "display_data"
    },
    {
     "data": {
      "text/html": [
       " View project at <a href='https://wandb.ai/deception_449/Classifier_LSTM' target=\"_blank\">https://wandb.ai/deception_449/Classifier_LSTM</a>"
      ],
      "text/plain": [
       "<IPython.core.display.HTML object>"
      ]
     },
     "metadata": {},
     "output_type": "display_data"
    },
    {
     "data": {
      "text/html": [
       " View sweep at <a href='https://wandb.ai/deception_449/Classifier_LSTM/sweeps/wut1tkkz' target=\"_blank\">https://wandb.ai/deception_449/Classifier_LSTM/sweeps/wut1tkkz</a>"
      ],
      "text/plain": [
       "<IPython.core.display.HTML object>"
      ]
     },
     "metadata": {},
     "output_type": "display_data"
    },
    {
     "data": {
      "text/html": [
       " View run at <a href='https://wandb.ai/deception_449/Classifier_LSTM/runs/8vw1i5uy' target=\"_blank\">https://wandb.ai/deception_449/Classifier_LSTM/runs/8vw1i5uy</a>"
      ],
      "text/plain": [
       "<IPython.core.display.HTML object>"
      ]
     },
     "metadata": {},
     "output_type": "display_data"
    },
    {
     "name": "stdout",
     "output_type": "stream",
     "text": [
      "{'batch_size': 64, 'epochs': 100, 'fc_layer_size': 512, 'learning_rate': 0.05244019160850472}\n",
      "Epoch 1/100, Loss: 0.6728, Accuracy: 0.5462\n",
      "Epoch 1/100, Test Accuracy: 0.5547\n",
      "Epoch 2/100, Loss: 0.6786, Accuracy: 0.5386\n"
     ]
    }
   ],
   "source": [
    "counter=0\n",
    "sweep_id = wandb.sweep(sweep_config, project=\"Classifier_LSTM\")\n",
    "wandb.agent(sweep_id, sweep, count=10)\n",
    "counter=0"
   ]
  }
 ],
 "metadata": {
  "colab": {
   "provenance": []
  },
  "kernelspec": {
   "display_name": "Python 3 (ipykernel)",
   "language": "python",
   "name": "python3"
  },
  "language_info": {
   "codemirror_mode": {
    "name": "ipython",
    "version": 3
   },
   "file_extension": ".py",
   "mimetype": "text/x-python",
   "name": "python",
   "nbconvert_exporter": "python",
   "pygments_lexer": "ipython3",
   "version": "3.9.13"
  }
 },
 "nbformat": 4,
 "nbformat_minor": 4
}
