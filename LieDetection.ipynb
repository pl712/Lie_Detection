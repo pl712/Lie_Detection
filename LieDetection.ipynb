{
 "cells": [
  {
   "cell_type": "code",
   "execution_count": 4,
   "metadata": {},
   "outputs": [],
   "source": [
    "\n",
    "import pandas as pd\n",
    "import tensorflow as tf\n",
    "from tensorflow.keras.models import Sequential\n",
    "from tensorflow.keras.layers import Dense, Dropout, LSTM\n",
    "import glob\n",
    "import os\n",
    "import sklearn.metrics as sk\n",
    "import tensorflow_datasets as tfds\n",
    "from sklearn.ensemble import RandomForestClassifier\n",
    "from sklearn.preprocessing import MinMaxScaler\n",
    "import seaborn as sns\n",
    "import helpers\n",
    "import matplotlib.pyplot as plt\n",
    "\n",
    "os.environ['TF_CPP_MIN_LOG_LEVEL'] = '2' "
   ]
  },
  {
   "cell_type": "code",
   "execution_count": 5,
   "metadata": {},
   "outputs": [],
   "source": [
    "lie_trial_path = '/Users/frank/Downloads/dataSets/Trial-dataset/Clips/processed_lie/' #60 entries\n",
    "truth_trial_path = '/Users/frank/Downloads/dataSets/Trial-dataset/Clips/processed_truth/' #61 entries\n",
    "MU3D_path = '/Users/frank/Downloads/dataSets/MU3D-dataset/processed/' # 320 entries\n",
    "\n",
    "lstOfFeatures = [\"gaze_0_x\",\"gaze_0_y\",\"gaze_0_z\",\"gaze_angle_x\", \"gaze_angle_y\",\"dgaze_0_x\", \"dgaze_0_y\", \"dgaze_angle_y\", \"AU01_r\",\"AU04_r\",\"AU10_r\",\"AU12_r\",\"AU45_r\", \"pose_Tx\", \"pose_Ty\", \"pose_Tz\", \"pose_Ry\", \"Result\",\"confidence\"]\n",
    "\n",
    "\n",
    "\n",
    "# merge two dataframes without shuffle by default\n",
    "def mergeTwoDF(df1, df2, shuffle = False):\n",
    "  df = pd.concat([df1, df2]).reset_index()\n",
    "  if shuffle:\n",
    "    df = df.sample(frac=1)\n",
    "  return df\n",
    "\n",
    "# Add a result label to the datapoint with true or false (1 if true, 0 if false)\n",
    "def addLabel(df, TrueOrFalse):\n",
    "  if TrueOrFalse:\n",
    "    df[\"Result\"] = 1\n",
    "  elif not TrueOrFalse:\n",
    "    df[\"Result\"] = 0"
   ]
  }
 ],
 "metadata": {
  "kernelspec": {
   "display_name": "Python 3.8.3 ('base')",
   "language": "python",
   "name": "python3"
  },
  "language_info": {
   "codemirror_mode": {
    "name": "ipython",
    "version": 3
   },
   "file_extension": ".py",
   "mimetype": "text/x-python",
   "name": "python",
   "nbconvert_exporter": "python",
   "pygments_lexer": "ipython3",
   "version": "3.8.3"
  },
  "orig_nbformat": 4,
  "vscode": {
   "interpreter": {
    "hash": "24b17b925cb255c3f5f9d44279af6acbce2f518dd20c49d83bc1f6775a53d6cb"
   }
  }
 },
 "nbformat": 4,
 "nbformat_minor": 2
}
