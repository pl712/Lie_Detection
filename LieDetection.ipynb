{
 "cells": [
  {
   "cell_type": "code",
   "execution_count": 1,
   "metadata": {},
   "outputs": [
    {
     "name": "stderr",
     "output_type": "stream",
     "text": [
      "2022-12-02 00:17:21.525568: I tensorflow/core/platform/cpu_feature_guard.cc:193] This TensorFlow binary is optimized with oneAPI Deep Neural Network Library (oneDNN) to use the following CPU instructions in performance-critical operations:  AVX2 FMA\n",
      "To enable them in other operations, rebuild TensorFlow with the appropriate compiler flags.\n"
     ]
    }
   ],
   "source": [
    "import os\n",
    "from sklearn.model_selection import train_test_split\n",
    "\n",
    "from tensorflow.keras.models import Sequential\n",
    "from tensorflow.keras.layers import Dense, Dropout, LSTM\n",
    "from tensorflow.keras.losses import BinaryCrossentropy\n",
    "\n",
    "import seaborn as sns\n",
    "import helpers\n",
    "import dataset\n",
    "import test_lstm\n",
    "import tensorflow as tf\n",
    "import matplotlib.pyplot as plt\n",
    "\n",
    "os.environ['TF_CPP_MIN_LOG_LEVEL'] = '2' "
   ]
  },
  {
   "cell_type": "code",
   "execution_count": 2,
   "metadata": {},
   "outputs": [],
   "source": [
    "lie_trial_path = './processed_lie/' #60 entries\n",
    "truth_trial_path = './processed_truth/' #61 entries\n",
    "\n",
    "# MU3D_path = '/Users/frank/Downloads/dataSets/MU3D-dataset/processed/' # 320 entries"
   ]
  },
  {
   "cell_type": "code",
   "execution_count": 3,
   "metadata": {
    "scrolled": true
   },
   "outputs": [],
   "source": [
    "X, Y = dataset.path_preprocessing(truth_trial_path, lie_trial_path)"
   ]
  },
  {
   "cell_type": "code",
   "execution_count": 4,
   "metadata": {},
   "outputs": [],
   "source": [
    "TEST_RATIO = 0.2\n",
    "\n",
    "xTrain, xTest = train_test_split(X, test_size=TEST_RATIO, shuffle=False)\n",
    "yTrain, yTest = train_test_split(Y, test_size=TEST_RATIO, shuffle=False)"
   ]
  },
  {
   "cell_type": "code",
   "execution_count": 14,
   "metadata": {},
   "outputs": [
    {
     "name": "stdout",
     "output_type": "stream",
     "text": [
      "Model: \"sequential_3\"\n",
      "_________________________________________________________________\n",
      " Layer (type)                Output Shape              Param #   \n",
      "=================================================================\n",
      " lstm_3 (LSTM)               (None, 32)                6272      \n",
      "                                                                 \n",
      " dropout (Dropout)           (None, 32)                0         \n",
      "                                                                 \n",
      " dense_3 (Dense)             (None, 1)                 33        \n",
      "                                                                 \n",
      "=================================================================\n",
      "Total params: 6,305\n",
      "Trainable params: 6,305\n",
      "Non-trainable params: 0\n",
      "_________________________________________________________________\n",
      "Epoch 1/10\n",
      "1536/1536 [==============================] - 8s 4ms/step - loss: 0.4494 - accuracy: 0.7806 - val_loss: 0.3509 - val_accuracy: 0.8241\n",
      "Epoch 2/10\n",
      "1536/1536 [==============================] - 6s 4ms/step - loss: 0.3220 - accuracy: 0.8410 - val_loss: 0.2540 - val_accuracy: 0.8790\n",
      "Epoch 3/10\n",
      "1536/1536 [==============================] - 6s 4ms/step - loss: 0.2390 - accuracy: 0.8969 - val_loss: 0.2464 - val_accuracy: 0.8743\n",
      "Epoch 4/10\n",
      "1536/1536 [==============================] - 6s 4ms/step - loss: 0.2021 - accuracy: 0.9124 - val_loss: 0.2511 - val_accuracy: 0.8669\n",
      "Epoch 5/10\n",
      "1536/1536 [==============================] - 6s 4ms/step - loss: 0.1822 - accuracy: 0.9203 - val_loss: 0.1850 - val_accuracy: 0.9232\n",
      "Epoch 6/10\n",
      "1536/1536 [==============================] - 6s 4ms/step - loss: 0.1724 - accuracy: 0.9220 - val_loss: 0.1868 - val_accuracy: 0.9228\n",
      "Epoch 7/10\n",
      "1536/1536 [==============================] - 6s 4ms/step - loss: 0.1672 - accuracy: 0.9262 - val_loss: 0.1526 - val_accuracy: 0.9343\n",
      "Epoch 8/10\n",
      "1536/1536 [==============================] - 6s 4ms/step - loss: 0.1582 - accuracy: 0.9295 - val_loss: 0.1446 - val_accuracy: 0.9366\n",
      "Epoch 9/10\n",
      "1536/1536 [==============================] - 6s 4ms/step - loss: 0.1539 - accuracy: 0.9322 - val_loss: 0.1336 - val_accuracy: 0.9391\n",
      "Epoch 10/10\n",
      "1536/1536 [==============================] - 6s 4ms/step - loss: 0.1517 - accuracy: 0.9333 - val_loss: 0.1495 - val_accuracy: 0.9280\n"
     ]
    },
    {
     "data": {
      "text/plain": [
       "<keras.callbacks.History at 0x7f9461099790>"
      ]
     },
     "execution_count": 14,
     "metadata": {},
     "output_type": "execute_result"
    }
   ],
   "source": [
    "LSTM_NEURONS = 32\n",
    "DROPOUT = 0\n",
    "EPOCHS = 10\n",
    "OPTIM = 'adam'\n",
    "# LOSS = 'binary_crossentropy'\n",
    "LOSS = BinaryCrossentropy(from_logits=False)\n",
    "\n",
    "n_inputRows = xTrain.shape[0] \n",
    "n_timesteps = xTrain.shape[1]\n",
    "n_features = xTrain.shape[2]\n",
    "\n",
    "def LSTM_Model(neuro, drop, loss, optim, step, feat):\n",
    "  model = Sequential()\n",
    "  model.add(LSTM(neuro, return_sequences=False, batch_input_shape=(None, step, feat)))\n",
    "\n",
    "  model.add(Dropout(drop))\n",
    "  \n",
    "  model.add(Dense(1, activation='sigmoid')) #softmax\n",
    "\n",
    "  model.compile(loss=loss, optimizer=optim, metrics=['accuracy'])\n",
    "  return model\n",
    "\n",
    "MODEL = LSTM_Model(LSTM_NEURONS, DROPOUT, LOSS, OPTIM, n_timesteps, n_features)\n",
    "MODEL.summary()\n",
    "MODEL.fit(xTrain, yTrain, validation_data=(xTest, yTest), epochs=EPOCHS, verbose=1)\n"
   ]
  },
  {
   "cell_type": "code",
   "execution_count": 6,
   "metadata": {},
   "outputs": [
    {
     "name": "stdout",
     "output_type": "stream",
     "text": [
      "1536/1536 [==============================] - 3s 1ms/step\n",
      "[[ 0.78196037]\n",
      " [ 1.208529  ]\n",
      " [ 0.28925908]\n",
      " ...\n",
      " [-0.170787  ]\n",
      " [ 1.6159518 ]\n",
      " [ 0.777282  ]]\n"
     ]
    }
   ],
   "source": [
    "print(MODEL.predict(xTrain))"
   ]
  },
  {
   "cell_type": "code",
   "execution_count": 21,
   "metadata": {},
   "outputs": [
    {
     "name": "stdout",
     "output_type": "stream",
     "text": [
      "40/40 [==============================] - 0s 1ms/step\n",
      "[[0.99498516]\n",
      " [0.99498516]\n",
      " [0.99498516]\n",
      " ...\n",
      " [0.99498516]\n",
      " [0.99498516]\n",
      " [0.99498516]]\n"
     ]
    }
   ],
   "source": [
    "import importlib\n",
    "importlib.reload(test_lstm)\n",
    "\n",
    "lie_test_path = './test/Deceptive/processed/'\n",
    "\n",
    "test_lstm.perdictSingleVideo(lie_test_path, MODEL)"
   ]
  }
 ],
 "metadata": {
  "kernelspec": {
   "display_name": "Python 3.8.3 ('base')",
   "language": "python",
   "name": "python3"
  },
  "language_info": {
   "codemirror_mode": {
    "name": "ipython",
    "version": 3
   },
   "file_extension": ".py",
   "mimetype": "text/x-python",
   "name": "python",
   "nbconvert_exporter": "python",
   "pygments_lexer": "ipython3",
   "version": "3.8.3"
  },
  "vscode": {
   "interpreter": {
    "hash": "24b17b925cb255c3f5f9d44279af6acbce2f518dd20c49d83bc1f6775a53d6cb"
   }
  }
 },
 "nbformat": 4,
 "nbformat_minor": 2
}
