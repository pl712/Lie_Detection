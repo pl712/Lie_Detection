{
 "cells": [
  {
   "cell_type": "code",
   "execution_count": 1,
   "metadata": {},
   "outputs": [
    {
     "name": "stderr",
     "output_type": "stream",
     "text": [
      "2022-12-02 03:04:37.541963: I tensorflow/core/platform/cpu_feature_guard.cc:193] This TensorFlow binary is optimized with oneAPI Deep Neural Network Library (oneDNN) to use the following CPU instructions in performance-critical operations:  AVX2 FMA\n",
      "To enable them in other operations, rebuild TensorFlow with the appropriate compiler flags.\n"
     ]
    }
   ],
   "source": [
    "import os\n",
    "from sklearn.model_selection import train_test_split\n",
    "\n",
    "from tensorflow.keras.models import Sequential\n",
    "from tensorflow.keras.layers import Dense, Dropout, LSTM\n",
    "from tensorflow.keras.losses import BinaryCrossentropy\n",
    "\n",
    "import dataset\n",
    "import test_lstm\n",
    "\n",
    "os.environ['TF_CPP_MIN_LOG_LEVEL'] = '2' "
   ]
  },
  {
   "cell_type": "code",
   "execution_count": 2,
   "metadata": {},
   "outputs": [],
   "source": [
    "lie_trial_path = './processed_lie/' #60 entries\n",
    "truth_trial_path = './processed_truth/' #61 entries"
   ]
  },
  {
   "cell_type": "code",
   "execution_count": 3,
   "metadata": {},
   "outputs": [],
   "source": [
    "# # no split by person\n",
    "# X, Y = dataset.LSTM_preprocessing(truth_trial_path, lie_trial_path)\n",
    "\n",
    "# TEST_RATIO = 0.2\n",
    "\n",
    "# xTrain, xTest = train_test_split(X, test_size=TEST_RATIO, shuffle=False)\n",
    "# yTrain, yTest = train_test_split(Y, test_size=TEST_RATIO, shuffle=False)"
   ]
  },
  {
   "cell_type": "code",
   "execution_count": 4,
   "metadata": {},
   "outputs": [
    {
     "name": "stdout",
     "output_type": "stream",
     "text": [
      "Processing Truth\n",
      "Persons 0 to 46 are in the training set, and 47 to 58 are in the testing set\n",
      "Processing Train\n",
      "Processing Person 2, shape of data is (4935, 17)\n"
     ]
    },
    {
     "name": "stderr",
     "output_type": "stream",
     "text": [
      "100%|██████████| 4393/4393 [00:02<00:00, 1816.93it/s]\n"
     ]
    },
    {
     "name": "stdout",
     "output_type": "stream",
     "text": [
      "Processing Person 33, shape of data is (5093, 17)\n"
     ]
    },
    {
     "name": "stderr",
     "output_type": "stream",
     "text": [
      "100%|██████████| 4428/4428 [00:02<00:00, 1842.66it/s]\n"
     ]
    },
    {
     "name": "stdout",
     "output_type": "stream",
     "text": [
      "Processing Person 34, shape of data is (2781, 17)\n"
     ]
    },
    {
     "name": "stderr",
     "output_type": "stream",
     "text": [
      "100%|██████████| 2617/2617 [00:01<00:00, 1829.90it/s]\n"
     ]
    },
    {
     "name": "stdout",
     "output_type": "stream",
     "text": [
      "Processing Person 35, shape of data is (15939, 17)\n"
     ]
    },
    {
     "name": "stderr",
     "output_type": "stream",
     "text": [
      "100%|██████████| 4462/4462 [00:02<00:00, 1841.92it/s]\n"
     ]
    },
    {
     "name": "stdout",
     "output_type": "stream",
     "text": [
      "Processing Person 36, shape of data is (699, 17)\n"
     ]
    },
    {
     "name": "stderr",
     "output_type": "stream",
     "text": [
      "100%|██████████| 690/690 [00:00<00:00, 1864.09it/s]\n"
     ]
    },
    {
     "name": "stdout",
     "output_type": "stream",
     "text": [
      "Processing Person 37, shape of data is (1125, 17)\n"
     ]
    },
    {
     "name": "stderr",
     "output_type": "stream",
     "text": [
      "100%|██████████| 429/429 [00:00<00:00, 1877.39it/s]\n"
     ]
    },
    {
     "name": "stdout",
     "output_type": "stream",
     "text": [
      "Processing Person 38, shape of data is (750, 17)\n"
     ]
    },
    {
     "name": "stderr",
     "output_type": "stream",
     "text": [
      "100%|██████████| 677/677 [00:00<00:00, 1841.57it/s]\n"
     ]
    },
    {
     "name": "stdout",
     "output_type": "stream",
     "text": [
      "Processing Person 39, shape of data is (350, 17)\n"
     ]
    },
    {
     "name": "stderr",
     "output_type": "stream",
     "text": [
      "100%|██████████| 168/168 [00:00<00:00, 1765.87it/s]\n"
     ]
    },
    {
     "name": "stdout",
     "output_type": "stream",
     "text": [
      "Processing Person 40, shape of data is (1169, 17)\n"
     ]
    },
    {
     "name": "stderr",
     "output_type": "stream",
     "text": [
      "100%|██████████| 263/263 [00:00<00:00, 1849.05it/s]\n"
     ]
    },
    {
     "name": "stdout",
     "output_type": "stream",
     "text": [
      "Processing Person 41, shape of data is (780, 17)\n"
     ]
    },
    {
     "name": "stderr",
     "output_type": "stream",
     "text": [
      "100%|██████████| 503/503 [00:00<00:00, 1835.44it/s]\n"
     ]
    },
    {
     "name": "stdout",
     "output_type": "stream",
     "text": [
      "Processing Person 42, shape of data is (720, 17)\n"
     ]
    },
    {
     "name": "stderr",
     "output_type": "stream",
     "text": [
      "100%|██████████| 495/495 [00:00<00:00, 1850.65it/s]\n"
     ]
    },
    {
     "name": "stdout",
     "output_type": "stream",
     "text": [
      "Processing Person 43, shape of data is (422, 17)\n"
     ]
    },
    {
     "name": "stderr",
     "output_type": "stream",
     "text": [
      "100%|██████████| 301/301 [00:00<00:00, 1857.31it/s]\n"
     ]
    },
    {
     "name": "stdout",
     "output_type": "stream",
     "text": [
      "Processing Person 44, shape of data is (270, 17)\n"
     ]
    },
    {
     "name": "stderr",
     "output_type": "stream",
     "text": [
      "100%|██████████| 116/116 [00:00<00:00, 1785.05it/s]\n"
     ]
    },
    {
     "name": "stdout",
     "output_type": "stream",
     "text": [
      "Processing Person 45, shape of data is (570, 17)\n"
     ]
    },
    {
     "name": "stderr",
     "output_type": "stream",
     "text": [
      "100%|██████████| 1/1 [00:00<00:00, 1027.76it/s]\n"
     ]
    },
    {
     "name": "stdout",
     "output_type": "stream",
     "text": [
      "Processing Person 46, shape of data is (3598, 17)\n"
     ]
    },
    {
     "name": "stderr",
     "output_type": "stream",
     "text": [
      "100%|██████████| 3214/3214 [00:01<00:00, 1861.39it/s]\n"
     ]
    },
    {
     "name": "stdout",
     "output_type": "stream",
     "text": [
      "Processing Test\n",
      "Processing Person 46, shape of data is (1, 17)\n"
     ]
    },
    {
     "name": "stderr",
     "output_type": "stream",
     "text": [
      "0it [00:00, ?it/s]\n"
     ]
    },
    {
     "name": "stdout",
     "output_type": "stream",
     "text": [
      "Processing Person 47, shape of data is (750, 17)\n"
     ]
    },
    {
     "name": "stderr",
     "output_type": "stream",
     "text": [
      "100%|██████████| 70/70 [00:00<00:00, 1600.25it/s]\n"
     ]
    },
    {
     "name": "stdout",
     "output_type": "stream",
     "text": [
      "Processing Person 48, shape of data is (210, 17)\n"
     ]
    },
    {
     "name": "stderr",
     "output_type": "stream",
     "text": [
      "100%|██████████| 75/75 [00:00<00:00, 1242.17it/s]\n"
     ]
    },
    {
     "name": "stdout",
     "output_type": "stream",
     "text": [
      "Processing Person 49, shape of data is (1440, 17)\n"
     ]
    },
    {
     "name": "stderr",
     "output_type": "stream",
     "text": [
      "100%|██████████| 1148/1148 [00:00<00:00, 1360.46it/s]\n"
     ]
    },
    {
     "name": "stdout",
     "output_type": "stream",
     "text": [
      "Processing Person 50, shape of data is (360, 17)\n"
     ]
    },
    {
     "name": "stderr",
     "output_type": "stream",
     "text": [
      "100%|██████████| 29/29 [00:00<00:00, 1167.04it/s]\n"
     ]
    },
    {
     "name": "stdout",
     "output_type": "stream",
     "text": [
      "Processing Person 51, shape of data is (600, 17)\n"
     ]
    },
    {
     "name": "stderr",
     "output_type": "stream",
     "text": [
      "100%|██████████| 339/339 [00:00<00:00, 1177.48it/s]\n"
     ]
    },
    {
     "name": "stdout",
     "output_type": "stream",
     "text": [
      "Processing Person 52, shape of data is (960, 17)\n"
     ]
    },
    {
     "name": "stderr",
     "output_type": "stream",
     "text": [
      "100%|██████████| 447/447 [00:00<00:00, 1216.53it/s]\n"
     ]
    },
    {
     "name": "stdout",
     "output_type": "stream",
     "text": [
      "Processing Person 53, shape of data is (870, 17)\n"
     ]
    },
    {
     "name": "stderr",
     "output_type": "stream",
     "text": [
      "100%|██████████| 576/576 [00:00<00:00, 1457.69it/s]\n"
     ]
    },
    {
     "name": "stdout",
     "output_type": "stream",
     "text": [
      "Processing Person 54, shape of data is (570, 17)\n"
     ]
    },
    {
     "name": "stderr",
     "output_type": "stream",
     "text": [
      "100%|██████████| 476/476 [00:00<00:00, 1516.73it/s]\n"
     ]
    },
    {
     "name": "stdout",
     "output_type": "stream",
     "text": [
      "Processing Person 55, shape of data is (660, 17)\n"
     ]
    },
    {
     "name": "stderr",
     "output_type": "stream",
     "text": [
      "100%|██████████| 569/569 [00:00<00:00, 1538.34it/s]\n"
     ]
    },
    {
     "name": "stdout",
     "output_type": "stream",
     "text": [
      "Processing Person 56, shape of data is (1199, 17)\n"
     ]
    },
    {
     "name": "stderr",
     "output_type": "stream",
     "text": [
      "100%|██████████| 81/81 [00:00<00:00, 1648.38it/s]\n"
     ]
    },
    {
     "name": "stdout",
     "output_type": "stream",
     "text": [
      "Processing Person 57, shape of data is (750, 17)\n"
     ]
    },
    {
     "name": "stderr",
     "output_type": "stream",
     "text": [
      "100%|██████████| 199/199 [00:00<00:00, 1451.22it/s]\n"
     ]
    },
    {
     "name": "stdout",
     "output_type": "stream",
     "text": [
      "Processing Person 58, shape of data is (870, 17)\n"
     ]
    },
    {
     "name": "stderr",
     "output_type": "stream",
     "text": [
      "100%|██████████| 246/246 [00:00<00:00, 1346.37it/s]\n"
     ]
    },
    {
     "name": "stdout",
     "output_type": "stream",
     "text": [
      "Processing Lie\n",
      "Persons 0 to 29 are in the training set, and 30 to 36 are in the testing set\n",
      "Processing Train\n",
      "Processing Person 0, shape of data is (412, 17)\n"
     ]
    },
    {
     "name": "stderr",
     "output_type": "stream",
     "text": [
      "100%|██████████| 395/395 [00:00<00:00, 1250.79it/s]\n"
     ]
    },
    {
     "name": "stdout",
     "output_type": "stream",
     "text": [
      "Processing Person 1, shape of data is (594, 17)\n"
     ]
    },
    {
     "name": "stderr",
     "output_type": "stream",
     "text": [
      "100%|██████████| 563/563 [00:00<00:00, 1545.02it/s]\n"
     ]
    },
    {
     "name": "stdout",
     "output_type": "stream",
     "text": [
      "Processing Person 2, shape of data is (6934, 17)\n"
     ]
    },
    {
     "name": "stderr",
     "output_type": "stream",
     "text": [
      "100%|██████████| 6559/6559 [00:03<00:00, 1658.06it/s]\n"
     ]
    },
    {
     "name": "stdout",
     "output_type": "stream",
     "text": [
      "Processing Person 3, shape of data is (8526, 17)\n"
     ]
    },
    {
     "name": "stderr",
     "output_type": "stream",
     "text": [
      "100%|██████████| 8145/8145 [00:04<00:00, 1849.00it/s]\n"
     ]
    },
    {
     "name": "stdout",
     "output_type": "stream",
     "text": [
      "Processing Person 4, shape of data is (301, 17)\n"
     ]
    },
    {
     "name": "stderr",
     "output_type": "stream",
     "text": [
      "100%|██████████| 35/35 [00:00<00:00, 1664.44it/s]\n"
     ]
    },
    {
     "name": "stdout",
     "output_type": "stream",
     "text": [
      "Processing Person 5, shape of data is (499, 17)\n"
     ]
    },
    {
     "name": "stderr",
     "output_type": "stream",
     "text": [
      "100%|██████████| 490/490 [00:00<00:00, 1674.17it/s]\n"
     ]
    },
    {
     "name": "stdout",
     "output_type": "stream",
     "text": [
      "Processing Person 6, shape of data is (173, 17)\n"
     ]
    },
    {
     "name": "stderr",
     "output_type": "stream",
     "text": [
      "100%|██████████| 152/152 [00:00<00:00, 1758.01it/s]\n"
     ]
    },
    {
     "name": "stdout",
     "output_type": "stream",
     "text": [
      "Processing Person 7, shape of data is (262, 17)\n"
     ]
    },
    {
     "name": "stderr",
     "output_type": "stream",
     "text": [
      "100%|██████████| 239/239 [00:00<00:00, 1599.95it/s]\n"
     ]
    },
    {
     "name": "stdout",
     "output_type": "stream",
     "text": [
      "Processing Person 8, shape of data is (855, 17)\n"
     ]
    },
    {
     "name": "stderr",
     "output_type": "stream",
     "text": [
      "100%|██████████| 802/802 [00:00<00:00, 1802.45it/s]\n"
     ]
    },
    {
     "name": "stdout",
     "output_type": "stream",
     "text": [
      "Processing Person 9, shape of data is (675, 17)\n"
     ]
    },
    {
     "name": "stderr",
     "output_type": "stream",
     "text": [
      "100%|██████████| 666/666 [00:00<00:00, 1790.88it/s]\n"
     ]
    },
    {
     "name": "stdout",
     "output_type": "stream",
     "text": [
      "Processing Person 10, shape of data is (1683, 17)\n"
     ]
    },
    {
     "name": "stderr",
     "output_type": "stream",
     "text": [
      "100%|██████████| 1225/1225 [00:00<00:00, 1812.36it/s]\n"
     ]
    },
    {
     "name": "stdout",
     "output_type": "stream",
     "text": [
      "Processing Person 11, shape of data is (960, 17)\n"
     ]
    },
    {
     "name": "stderr",
     "output_type": "stream",
     "text": [
      "100%|██████████| 721/721 [00:00<00:00, 1831.36it/s]\n"
     ]
    },
    {
     "name": "stdout",
     "output_type": "stream",
     "text": [
      "Processing Person 12, shape of data is (425, 17)\n"
     ]
    },
    {
     "name": "stderr",
     "output_type": "stream",
     "text": [
      "100%|██████████| 394/394 [00:00<00:00, 1721.57it/s]\n"
     ]
    },
    {
     "name": "stdout",
     "output_type": "stream",
     "text": [
      "Processing Person 13, shape of data is (450, 17)\n"
     ]
    },
    {
     "name": "stderr",
     "output_type": "stream",
     "text": [
      "100%|██████████| 12/12 [00:00<00:00, 1683.22it/s]\n"
     ]
    },
    {
     "name": "stdout",
     "output_type": "stream",
     "text": [
      "Processing Person 14, shape of data is (575, 17)\n"
     ]
    },
    {
     "name": "stderr",
     "output_type": "stream",
     "text": [
      "100%|██████████| 33/33 [00:00<00:00, 1450.28it/s]\n"
     ]
    },
    {
     "name": "stdout",
     "output_type": "stream",
     "text": [
      "Processing Person 15, shape of data is (1375, 17)\n"
     ]
    },
    {
     "name": "stderr",
     "output_type": "stream",
     "text": [
      "100%|██████████| 746/746 [00:00<00:00, 1751.42it/s]\n"
     ]
    },
    {
     "name": "stdout",
     "output_type": "stream",
     "text": [
      "Processing Person 16, shape of data is (450, 17)\n"
     ]
    },
    {
     "name": "stderr",
     "output_type": "stream",
     "text": [
      "100%|██████████| 147/147 [00:00<00:00, 1373.93it/s]\n"
     ]
    },
    {
     "name": "stdout",
     "output_type": "stream",
     "text": [
      "Processing Person 17, shape of data is (925, 17)\n"
     ]
    },
    {
     "name": "stderr",
     "output_type": "stream",
     "text": [
      "100%|██████████| 900/900 [00:00<00:00, 1768.43it/s]\n"
     ]
    },
    {
     "name": "stdout",
     "output_type": "stream",
     "text": [
      "Processing Person 18, shape of data is (1200, 17)\n"
     ]
    },
    {
     "name": "stderr",
     "output_type": "stream",
     "text": [
      "100%|██████████| 119/119 [00:00<00:00, 1766.23it/s]\n"
     ]
    },
    {
     "name": "stdout",
     "output_type": "stream",
     "text": [
      "Processing Person 19, shape of data is (1675, 17)\n"
     ]
    },
    {
     "name": "stderr",
     "output_type": "stream",
     "text": [
      "100%|██████████| 1644/1644 [00:00<00:00, 1837.71it/s]\n"
     ]
    },
    {
     "name": "stdout",
     "output_type": "stream",
     "text": [
      "Processing Person 20, shape of data is (549, 17)\n"
     ]
    },
    {
     "name": "stderr",
     "output_type": "stream",
     "text": [
      "100%|██████████| 470/470 [00:00<00:00, 1782.40it/s]\n"
     ]
    },
    {
     "name": "stdout",
     "output_type": "stream",
     "text": [
      "Processing Person 21, shape of data is (474, 17)\n"
     ]
    },
    {
     "name": "stderr",
     "output_type": "stream",
     "text": [
      "100%|██████████| 442/442 [00:00<00:00, 1852.11it/s]\n"
     ]
    },
    {
     "name": "stdout",
     "output_type": "stream",
     "text": [
      "Processing Person 22, shape of data is (800, 17)\n"
     ]
    },
    {
     "name": "stderr",
     "output_type": "stream",
     "text": [
      "100%|██████████| 520/520 [00:00<00:00, 1786.66it/s]\n"
     ]
    },
    {
     "name": "stdout",
     "output_type": "stream",
     "text": [
      "Processing Person 23, shape of data is (774, 17)\n"
     ]
    },
    {
     "name": "stderr",
     "output_type": "stream",
     "text": [
      "100%|██████████| 765/765 [00:00<00:00, 1818.96it/s]\n"
     ]
    },
    {
     "name": "stdout",
     "output_type": "stream",
     "text": [
      "Processing Person 24, shape of data is (860, 17)\n"
     ]
    },
    {
     "name": "stderr",
     "output_type": "stream",
     "text": [
      "100%|██████████| 334/334 [00:00<00:00, 1709.25it/s]\n"
     ]
    },
    {
     "name": "stdout",
     "output_type": "stream",
     "text": [
      "Processing Person 25, shape of data is (210, 17)\n"
     ]
    },
    {
     "name": "stderr",
     "output_type": "stream",
     "text": [
      "100%|██████████| 171/171 [00:00<00:00, 1723.55it/s]\n"
     ]
    },
    {
     "name": "stdout",
     "output_type": "stream",
     "text": [
      "Processing Person 26, shape of data is (330, 17)\n"
     ]
    },
    {
     "name": "stderr",
     "output_type": "stream",
     "text": [
      "100%|██████████| 260/260 [00:00<00:00, 1759.15it/s]\n"
     ]
    },
    {
     "name": "stdout",
     "output_type": "stream",
     "text": [
      "Processing Person 27, shape of data is (370, 17)\n"
     ]
    },
    {
     "name": "stderr",
     "output_type": "stream",
     "text": [
      "100%|██████████| 155/155 [00:00<00:00, 1571.19it/s]\n"
     ]
    },
    {
     "name": "stdout",
     "output_type": "stream",
     "text": [
      "Processing Person 28, shape of data is (260, 17)\n"
     ]
    },
    {
     "name": "stderr",
     "output_type": "stream",
     "text": [
      "100%|██████████| 119/119 [00:00<00:00, 1550.93it/s]\n"
     ]
    },
    {
     "name": "stdout",
     "output_type": "stream",
     "text": [
      "Processing Person 29, shape of data is (259, 17)\n"
     ]
    },
    {
     "name": "stderr",
     "output_type": "stream",
     "text": [
      "100%|██████████| 202/202 [00:00<00:00, 1595.04it/s]\n"
     ]
    },
    {
     "name": "stdout",
     "output_type": "stream",
     "text": [
      "Processing Test\n",
      "Processing Person 29, shape of data is (1, 17)\n"
     ]
    },
    {
     "name": "stderr",
     "output_type": "stream",
     "text": [
      "0it [00:00, ?it/s]\n"
     ]
    },
    {
     "name": "stdout",
     "output_type": "stream",
     "text": [
      "Processing Person 30, shape of data is (300, 17)\n"
     ]
    },
    {
     "name": "stderr",
     "output_type": "stream",
     "text": [
      "100%|██████████| 221/221 [00:00<00:00, 1628.18it/s]\n"
     ]
    },
    {
     "name": "stdout",
     "output_type": "stream",
     "text": [
      "Processing Person 31, shape of data is (230, 17)\n"
     ]
    },
    {
     "name": "stderr",
     "output_type": "stream",
     "text": [
      "100%|██████████| 186/186 [00:00<00:00, 1514.05it/s]\n"
     ]
    },
    {
     "name": "stdout",
     "output_type": "stream",
     "text": [
      "Processing Person 32, shape of data is (870, 17)\n"
     ]
    },
    {
     "name": "stderr",
     "output_type": "stream",
     "text": [
      "100%|██████████| 848/848 [00:00<00:00, 1783.76it/s]\n"
     ]
    },
    {
     "name": "stdout",
     "output_type": "stream",
     "text": [
      "Processing Person 33, shape of data is (290, 17)\n"
     ]
    },
    {
     "name": "stderr",
     "output_type": "stream",
     "text": [
      "100%|██████████| 5/5 [00:00<00:00, 1722.93it/s]\n"
     ]
    },
    {
     "name": "stdout",
     "output_type": "stream",
     "text": [
      "Processing Person 34, shape of data is (1350, 17)\n"
     ]
    },
    {
     "name": "stderr",
     "output_type": "stream",
     "text": [
      "100%|██████████| 1056/1056 [00:00<00:00, 1819.71it/s]\n"
     ]
    },
    {
     "name": "stdout",
     "output_type": "stream",
     "text": [
      "Processing Person 35, shape of data is (2609, 17)\n"
     ]
    },
    {
     "name": "stderr",
     "output_type": "stream",
     "text": [
      "100%|██████████| 2600/2600 [00:01<00:00, 1841.08it/s]\n"
     ]
    },
    {
     "name": "stdout",
     "output_type": "stream",
     "text": [
      "Processing Person 36, shape of data is (2579, 17)\n"
     ]
    },
    {
     "name": "stderr",
     "output_type": "stream",
     "text": [
      "100%|██████████| 2428/2428 [00:01<00:00, 1786.20it/s]\n"
     ]
    }
   ],
   "source": [
    "# split by person\n",
    "xTrain, yTrain, xTest, yTest = dataset.createDatasetLSTM(lie_trial_path, truth_trial_path, 0.2)"
   ]
  },
  {
   "cell_type": "code",
   "execution_count": 12,
   "metadata": {},
   "outputs": [
    {
     "name": "stdout",
     "output_type": "stream",
     "text": [
      "[[ 1.69510e-01  1.36803e-01 -9.75987e-01  1.08000e-01  1.52000e-01\n",
      "   2.30000e-01  2.20000e-01  1.70000e-01  0.00000e+00  1.00000e-02\n",
      "  -3.94000e+01 -9.80000e+01  9.02500e+02 -1.01000e-01]\n",
      " [ 1.13836e-01  1.61171e-01 -9.80339e-01  6.80000e-02  1.65000e-01\n",
      "   3.20000e-01  2.50000e-01  9.00000e-02  0.00000e+00  1.10000e-01\n",
      "  -3.86000e+01 -9.70000e+01  9.02400e+02 -8.30000e-02]\n",
      " [ 1.19514e-01  9.28310e-02 -9.88483e-01  6.60000e-02  1.22000e-01\n",
      "   4.00000e-01  2.60000e-01  6.00000e-02  0.00000e+00  1.30000e-01\n",
      "  -3.87000e+01 -9.72000e+01  9.03900e+02 -8.70000e-02]\n",
      " [ 1.05779e-01  8.77330e-02 -9.90512e-01  3.40000e-02  1.29000e-01\n",
      "   3.30000e-01  3.40000e-01  0.00000e+00  0.00000e+00  2.50000e-01\n",
      "  -3.80000e+01 -9.55000e+01  9.02900e+02 -6.40000e-02]\n",
      " [ 7.94620e-02  8.76830e-02 -9.92974e-01  2.80000e-02  1.19000e-01\n",
      "   3.10000e-01  3.50000e-01  0.00000e+00  0.00000e+00  3.00000e-01\n",
      "  -3.81000e+01 -9.46000e+01  9.02500e+02 -5.70000e-02]\n",
      " [ 6.59690e-02  9.82360e-02 -9.92974e-01  9.00000e-03  1.38000e-01\n",
      "   1.60000e-01  3.80000e-01  0.00000e+00  0.00000e+00  3.20000e-01\n",
      "  -3.87000e+01 -9.35000e+01  9.04100e+02 -4.10000e-02]\n",
      " [-1.49600e-03  1.65519e-01 -9.86205e-01 -4.80000e-02  1.89000e-01\n",
      "   1.50000e-01  2.60000e-01  0.00000e+00  0.00000e+00  3.50000e-01\n",
      "  -3.97000e+01 -9.21000e+01  9.03400e+02 -1.50000e-02]\n",
      " [-1.16740e-02  1.76013e-01 -9.84319e-01 -5.70000e-02  1.98000e-01\n",
      "   9.00000e-02  2.20000e-01  0.00000e+00  0.00000e+00  3.60000e-01\n",
      "  -4.10000e+01 -9.11000e+01  9.07700e+02  4.00000e-03]\n",
      " [-1.31880e-02  1.71618e-01 -9.85075e-01 -5.70000e-02  1.97000e-01\n",
      "   2.70000e-01  9.00000e-02  0.00000e+00  0.00000e+00  3.50000e-01\n",
      "  -4.11000e+01 -9.11000e+01  9.08200e+02  5.00000e-03]]\n"
     ]
    }
   ],
   "source": [
    "print(xTrain[0])"
   ]
  },
  {
   "cell_type": "code",
   "execution_count": 5,
   "metadata": {},
   "outputs": [
    {
     "name": "stdout",
     "output_type": "stream",
     "text": [
      "Model: \"sequential\"\n",
      "_________________________________________________________________\n",
      " Layer (type)                Output Shape              Param #   \n",
      "=================================================================\n",
      " lstm (LSTM)                 (None, 32)                6016      \n",
      "                                                                 \n",
      " dropout (Dropout)           (None, 32)                0         \n",
      "                                                                 \n",
      " dense (Dense)               (None, 1)                 33        \n",
      "                                                                 \n",
      "=================================================================\n",
      "Total params: 6,049\n",
      "Trainable params: 6,049\n",
      "Non-trainable params: 0\n",
      "_________________________________________________________________\n",
      "Epoch 1/10\n",
      "1569/1569 [==============================] - 8s 4ms/step - loss: 0.5008 - accuracy: 0.7837 - val_loss: 1.0690 - val_accuracy: 0.4333\n",
      "Epoch 2/10\n",
      "1569/1569 [==============================] - 6s 4ms/step - loss: 0.4021 - accuracy: 0.8222 - val_loss: 1.1059 - val_accuracy: 0.5139\n",
      "Epoch 3/10\n",
      "1569/1569 [==============================] - 6s 4ms/step - loss: 0.3657 - accuracy: 0.8423 - val_loss: 1.4455 - val_accuracy: 0.3858\n",
      "Epoch 4/10\n",
      "1569/1569 [==============================] - 6s 4ms/step - loss: 0.3446 - accuracy: 0.8515 - val_loss: 1.6964 - val_accuracy: 0.3402\n",
      "Epoch 5/10\n",
      "1569/1569 [==============================] - 6s 4ms/step - loss: 0.3237 - accuracy: 0.8597 - val_loss: 1.6291 - val_accuracy: 0.3562\n",
      "Epoch 6/10\n",
      "1569/1569 [==============================] - 5s 3ms/step - loss: 0.3068 - accuracy: 0.8687 - val_loss: 1.8583 - val_accuracy: 0.3607\n",
      "Epoch 7/10\n",
      "1569/1569 [==============================] - 5s 3ms/step - loss: 0.2973 - accuracy: 0.8745 - val_loss: 2.0348 - val_accuracy: 0.3374\n",
      "Epoch 8/10\n",
      "1569/1569 [==============================] - 6s 4ms/step - loss: 0.2873 - accuracy: 0.8803 - val_loss: 2.2154 - val_accuracy: 0.3562\n",
      "Epoch 9/10\n",
      "1569/1569 [==============================] - 6s 4ms/step - loss: 0.2804 - accuracy: 0.8850 - val_loss: 2.1921 - val_accuracy: 0.3533\n",
      "Epoch 10/10\n",
      "1569/1569 [==============================] - 5s 3ms/step - loss: 0.2732 - accuracy: 0.8886 - val_loss: 2.2494 - val_accuracy: 0.3694\n"
     ]
    },
    {
     "data": {
      "text/plain": [
       "<keras.callbacks.History at 0x7fad76c6e970>"
      ]
     },
     "execution_count": 5,
     "metadata": {},
     "output_type": "execute_result"
    }
   ],
   "source": [
    "LSTM_NEURONS = 32\n",
    "DROPOUT = 0\n",
    "EPOCHS = 10\n",
    "OPTIM = 'adam'\n",
    "# LOSS = 'binary_crossentropy'\n",
    "LOSS = BinaryCrossentropy(from_logits=False)\n",
    "\n",
    "n_inputRows = xTrain.shape[0] \n",
    "n_timesteps = xTrain.shape[1]\n",
    "n_features = xTrain.shape[2]\n",
    "\n",
    "def LSTM_Model(neuro, drop, loss, optim, step, feat):\n",
    "  model = Sequential()\n",
    "  model.add(LSTM(neuro, return_sequences=False, batch_input_shape=(None, step, feat)))\n",
    "\n",
    "  model.add(Dropout(drop))\n",
    "  \n",
    "  model.add(Dense(1, activation='sigmoid')) #softmax\n",
    "\n",
    "  model.compile(loss=loss, optimizer=optim, metrics=['accuracy'])\n",
    "  return model\n",
    "\n",
    "MODEL = LSTM_Model(LSTM_NEURONS, DROPOUT, LOSS, OPTIM, n_timesteps, n_features)\n",
    "MODEL.summary()\n",
    "MODEL.fit(xTrain, yTrain, validation_data=(xTest, yTest), epochs=EPOCHS, verbose=1)\n"
   ]
  },
  {
   "cell_type": "code",
   "execution_count": 10,
   "metadata": {},
   "outputs": [
    {
     "name": "stdout",
     "output_type": "stream",
     "text": [
      "1/1 [==============================] - 0s 26ms/step\n",
      "[[3.6870739e-01]\n",
      " [9.9341261e-01]\n",
      " [2.5566225e-03]\n",
      " [6.8844318e-02]\n",
      " [6.2743918e-04]\n",
      " [8.1585330e-01]\n",
      " [1.2968487e-01]\n",
      " [1.0138449e-03]\n",
      " [6.6875974e-03]\n",
      " [9.6954805e-01]\n",
      " [1.7385904e-01]\n",
      " [8.0759954e-01]\n",
      " [1.6131207e-02]\n",
      " [7.2794580e-01]\n",
      " [9.9918550e-01]\n",
      " [7.0612677e-03]\n",
      " [9.4882566e-01]\n",
      " [9.9918550e-01]\n",
      " [2.1695255e-01]\n",
      " [7.5574410e-01]]\n",
      "[1 1 0 1 0 0 0 0 0 1 0 1 0 1 1 0 1 1 0 1]\n"
     ]
    }
   ],
   "source": [
    "print(MODEL.predict(xTrain[50:70]))\n",
    "print(yTrain[50:70])"
   ]
  },
  {
   "cell_type": "code",
   "execution_count": 14,
   "metadata": {},
   "outputs": [
    {
     "name": "stdout",
     "output_type": "stream",
     "text": [
      "(349, 10, 13)\n",
      "Unexpected exception formatting exception. Falling back to standard exception\n"
     ]
    },
    {
     "name": "stderr",
     "output_type": "stream",
     "text": [
      "Traceback (most recent call last):\n",
      "  File \"/Users/frank/opt/anaconda3/lib/python3.8/site-packages/IPython/core/interactiveshell.py\", line 3397, in run_code\n",
      "    exec(code_obj, self.user_global_ns, self.user_ns)\n",
      "  File \"/var/folders/66/pn8653k51_75x5ksbpsy8hm80000gn/T/ipykernel_16405/3529848673.py\", line 6, in <cell line: 6>\n",
      "    test_lstm.perdictSingleVideo(lie_test_path, MODEL)\n",
      "  File \"/Users/frank/Downloads/Projects/Lie Detection/Lie_Detection/test_lstm.py\", line 40, in perdictSingleVideo\n",
      "    print(modelObj.predict(np.array(data)))\n",
      "  File \"/Users/frank/opt/anaconda3/lib/python3.8/site-packages/keras/utils/traceback_utils.py\", line 70, in error_handler\n",
      "    raise e.with_traceback(filtered_tb) from None\n",
      "  File \"/Users/frank/opt/anaconda3/lib/python3.8/site-packages/tensorflow/python/eager/execute.py\", line 54, in quick_execute\n",
      "    tensors = pywrap_tfe.TFE_Py_Execute(ctx._handle, device_name, op_name,\n",
      "tensorflow.python.framework.errors_impl.InvalidArgumentError: Graph execution error:\n",
      "\n",
      "Specified a list with shape [?,14] from a tensor with shape [32,13]\n",
      "\t [[{{node TensorArrayUnstack/TensorListFromTensor}}]]\n",
      "\t [[sequential/lstm/PartitionedCall]] [Op:__inference_predict_function_82086]\n",
      "\n",
      "During handling of the above exception, another exception occurred:\n",
      "\n",
      "Traceback (most recent call last):\n",
      "  File \"/Users/frank/opt/anaconda3/lib/python3.8/site-packages/IPython/core/interactiveshell.py\", line 1992, in showtraceback\n",
      "    stb = self.InteractiveTB.structured_traceback(\n",
      "  File \"/Users/frank/opt/anaconda3/lib/python3.8/site-packages/IPython/core/ultratb.py\", line 1118, in structured_traceback\n",
      "    return FormattedTB.structured_traceback(\n",
      "  File \"/Users/frank/opt/anaconda3/lib/python3.8/site-packages/IPython/core/ultratb.py\", line 1012, in structured_traceback\n",
      "    return VerboseTB.structured_traceback(\n",
      "  File \"/Users/frank/opt/anaconda3/lib/python3.8/site-packages/IPython/core/ultratb.py\", line 865, in structured_traceback\n",
      "    formatted_exception = self.format_exception_as_a_whole(etype, evalue, etb, number_of_lines_of_context,\n",
      "  File \"/Users/frank/opt/anaconda3/lib/python3.8/site-packages/IPython/core/ultratb.py\", line 818, in format_exception_as_a_whole\n",
      "    frames.append(self.format_record(r))\n",
      "  File \"/Users/frank/opt/anaconda3/lib/python3.8/site-packages/IPython/core/ultratb.py\", line 736, in format_record\n",
      "    result += ''.join(_format_traceback_lines(frame_info.lines, Colors, self.has_colors, lvals))\n",
      "  File \"/Users/frank/opt/anaconda3/lib/python3.8/site-packages/stack_data/utils.py\", line 145, in cached_property_wrapper\n",
      "    value = obj.__dict__[self.func.__name__] = self.func(obj)\n",
      "  File \"/Users/frank/opt/anaconda3/lib/python3.8/site-packages/stack_data/core.py\", line 698, in lines\n",
      "    pieces = self.included_pieces\n",
      "  File \"/Users/frank/opt/anaconda3/lib/python3.8/site-packages/stack_data/utils.py\", line 145, in cached_property_wrapper\n",
      "    value = obj.__dict__[self.func.__name__] = self.func(obj)\n",
      "  File \"/Users/frank/opt/anaconda3/lib/python3.8/site-packages/stack_data/core.py\", line 649, in included_pieces\n",
      "    pos = scope_pieces.index(self.executing_piece)\n",
      "  File \"/Users/frank/opt/anaconda3/lib/python3.8/site-packages/stack_data/utils.py\", line 145, in cached_property_wrapper\n",
      "    value = obj.__dict__[self.func.__name__] = self.func(obj)\n",
      "  File \"/Users/frank/opt/anaconda3/lib/python3.8/site-packages/stack_data/core.py\", line 628, in executing_piece\n",
      "    return only(\n",
      "  File \"/Users/frank/opt/anaconda3/lib/python3.8/site-packages/executing/executing.py\", line 164, in only\n",
      "    raise NotOneValueFound('Expected one value, found 0')\n",
      "executing.executing.NotOneValueFound: Expected one value, found 0\n"
     ]
    }
   ],
   "source": [
    "import importlib\n",
    "importlib.reload(test_lstm)\n",
    "\n",
    "lie_test_path = './test/Deceptive/processed/'\n",
    "\n",
    "test_lstm.perdictSingleVideo(lie_test_path, MODEL)"
   ]
  }
 ],
 "metadata": {
  "kernelspec": {
   "display_name": "Python 3.8.3 ('base')",
   "language": "python",
   "name": "python3"
  },
  "language_info": {
   "codemirror_mode": {
    "name": "ipython",
    "version": 3
   },
   "file_extension": ".py",
   "mimetype": "text/x-python",
   "name": "python",
   "nbconvert_exporter": "python",
   "pygments_lexer": "ipython3",
   "version": "3.8.3"
  },
  "vscode": {
   "interpreter": {
    "hash": "24b17b925cb255c3f5f9d44279af6acbce2f518dd20c49d83bc1f6775a53d6cb"
   }
  }
 },
 "nbformat": 4,
 "nbformat_minor": 2
}
