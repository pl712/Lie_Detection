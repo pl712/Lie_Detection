{
 "cells": [
  {
   "cell_type": "code",
   "execution_count": 2,
   "metadata": {},
   "outputs": [],
   "source": [
    "import os\n",
    "from sklearn.model_selection import train_test_split\n",
    "\n",
    "from tensorflow.keras.models import Sequential\n",
    "from tensorflow.keras.layers import Dense, Dropout, LSTM\n",
    "from tensorflow.keras.losses import BinaryCrossentropy\n",
    "\n",
    "import dataset\n",
    "import test_lstm\n",
    "\n",
    "os.environ['TF_CPP_MIN_LOG_LEVEL'] = '2' "
   ]
  },
  {
   "cell_type": "code",
   "execution_count": 9,
   "metadata": {},
   "outputs": [
    {
     "name": "stdout",
     "output_type": "stream",
     "text": [
      "['trial_lie_040.csv', 'trial_lie_054.csv', 'trial_lie_055.csv', 'trial_lie_041.csv', 'trial_lie_057.csv', 'trial_lie_043.csv', 'trial_lie_042.csv', 'trial_lie_056.csv', 'trial_lie_052.csv', 'trial_lie_046.csv', 'trial_lie_047.csv', 'trial_lie_053.csv', 'trial_lie_045.csv', 'trial_lie_051.csv', 'trial_lie_050.csv', 'trial_lie_044.csv', 'trial_lie_023.csv', 'trial_lie_037.csv', 'trial_lie_036.csv', 'trial_lie_022.csv', 'trial_lie_008.csv', 'trial_lie_034.csv', 'trial_lie_020.csv', 'trial_lie_021.csv', 'trial_lie_035.csv', 'trial_lie_009.csv', 'trial_lie_031.csv', 'trial_lie_025.csv', 'trial_lie_019.csv', 'trial_lie_018.csv', 'trial_lie_024.csv', 'trial_lie_030.csv', 'trial_lie_026.csv', 'trial_lie_032.csv', 'trial_lie_033.csv', 'trial_lie_027.csv', 'trial_lie_002.csv', 'trial_lie_016.csv', 'trial_lie_017.csv', 'trial_lie_003.csv', 'trial_lie_029.csv', 'trial_lie_015.csv', 'trial_lie_001.csv', 'trial_lie_014.csv', 'trial_lie_028.csv', 'trial_lie_010.csv', 'trial_lie_004.csv', 'trial_lie_038.csv', 'trial_lie_039.csv', 'trial_lie_005.csv', 'trial_lie_011.csv', 'trial_lie_007.csv', 'trial_lie_013.csv', 'trial_lie_012.csv', 'trial_lie_006.csv', 'trial_lie_049.csv', 'trial_lie_061.csv', 'trial_lie_060.csv', 'trial_lie_048.csv', 'trial_lie_058.csv', 'trial_lie_059.csv']\n"
     ]
    }
   ],
   "source": [
    "lie_trial_path = 'finalized_code/data/OpenFace/trial/lie/' #60 entries\n",
    "truth_trial_path = 'finalized_code/data/OpenFace/trial/truth/' #61 entries\n",
    "MU3D_path = 'finalized_code/data/OpenFace/MU3D/' # 300 entries"
   ]
  },
  {
   "cell_type": "code",
   "execution_count": 8,
   "metadata": {},
   "outputs": [
    {
     "name": "stdout",
     "output_type": "stream",
     "text": [
      "Processing f\n"
     ]
    },
    {
     "ename": "FileNotFoundError",
     "evalue": "[Errno 2] No such file or directory: 'f'",
     "output_type": "error",
     "traceback": [
      "\u001b[0;31m---------------------------------------------------------------------------\u001b[0m",
      "\u001b[0;31mFileNotFoundError\u001b[0m                         Traceback (most recent call last)",
      "\u001b[1;32m/Users/frank/Downloads/Projects/Lie Detection/Lie_Detection/LieDetection.ipynb Cell 3\u001b[0m in \u001b[0;36m<cell line: 2>\u001b[0;34m()\u001b[0m\n\u001b[1;32m      <a href='vscode-notebook-cell:/Users/frank/Downloads/Projects/Lie%20Detection/Lie_Detection/LieDetection.ipynb#W2sZmlsZQ%3D%3D?line=0'>1</a>\u001b[0m \u001b[39m# # no split by person\u001b[39;00m\n\u001b[0;32m----> <a href='vscode-notebook-cell:/Users/frank/Downloads/Projects/Lie%20Detection/Lie_Detection/LieDetection.ipynb#W2sZmlsZQ%3D%3D?line=1'>2</a>\u001b[0m X, Y \u001b[39m=\u001b[39m dataset\u001b[39m.\u001b[39;49mpreprocessing(truth_trial_path, lie_trial_path, numOfFrames\u001b[39m=\u001b[39;49m\u001b[39m20\u001b[39;49m)\n\u001b[1;32m      <a href='vscode-notebook-cell:/Users/frank/Downloads/Projects/Lie%20Detection/Lie_Detection/LieDetection.ipynb#W2sZmlsZQ%3D%3D?line=3'>4</a>\u001b[0m TEST_RATIO \u001b[39m=\u001b[39m \u001b[39m0.2\u001b[39m\n\u001b[1;32m      <a href='vscode-notebook-cell:/Users/frank/Downloads/Projects/Lie%20Detection/Lie_Detection/LieDetection.ipynb#W2sZmlsZQ%3D%3D?line=5'>6</a>\u001b[0m xTrain, xTest \u001b[39m=\u001b[39m train_test_split(X, test_size\u001b[39m=\u001b[39mTEST_RATIO, shuffle\u001b[39m=\u001b[39m\u001b[39mFalse\u001b[39;00m)\n",
      "File \u001b[0;32m~/Downloads/Projects/Lie Detection/Lie_Detection/dataset.py:132\u001b[0m, in \u001b[0;36mpreprocessing\u001b[0;34m(truthPath, liePath, additionalPath, minConfidence, numOfFrames)\u001b[0m\n\u001b[1;32m    130\u001b[0m \u001b[39mfor\u001b[39;00m datasetPath \u001b[39min\u001b[39;00m truthPath:\n\u001b[1;32m    131\u001b[0m   \u001b[39mprint\u001b[39m(\u001b[39mf\u001b[39m\u001b[39m\"\u001b[39m\u001b[39mProcessing \u001b[39m\u001b[39m{\u001b[39;00mdatasetPath\u001b[39m}\u001b[39;00m\u001b[39m\"\u001b[39m)\n\u001b[0;32m--> 132\u001b[0m   \u001b[39mfor\u001b[39;00m file \u001b[39min\u001b[39;00m \u001b[39msorted\u001b[39m(os\u001b[39m.\u001b[39;49mlistdir(datasetPath)):\n\u001b[1;32m    133\u001b[0m     \u001b[39mif\u001b[39;00m file\u001b[39m.\u001b[39mendswith(\u001b[39m\"\u001b[39m\u001b[39m.csv\u001b[39m\u001b[39m\"\u001b[39m):\n\u001b[1;32m    134\u001b[0m       df \u001b[39m=\u001b[39m pd\u001b[39m.\u001b[39mread_csv(datasetPath \u001b[39m+\u001b[39m file)\n",
      "\u001b[0;31mFileNotFoundError\u001b[0m: [Errno 2] No such file or directory: 'f'"
     ]
    }
   ],
   "source": [
    "# # no split by person\n",
    "X, Y = dataset.preprocessing(truth_trial_path, lie_trial_path, numOfFrames=20)\n",
    "\n",
    "TEST_RATIO = 0.2\n",
    "\n",
    "xTrain, xTest = train_test_split(X, test_size=TEST_RATIO, shuffle=False)\n",
    "yTrain, yTest = train_test_split(Y, test_size=TEST_RATIO, shuffle=False)"
   ]
  },
  {
   "cell_type": "code",
   "execution_count": 4,
   "metadata": {},
   "outputs": [],
   "source": [
    "# split by person\n",
    "# xTrain, yTrain, xTest, yTest = dataset.createDatasetLSTM(lie_trial_path, truth_trial_path, 0.2, byPerson=False)"
   ]
  },
  {
   "cell_type": "code",
   "execution_count": 5,
   "metadata": {},
   "outputs": [
    {
     "name": "stdout",
     "output_type": "stream",
     "text": [
      "Model: \"sequential\"\n",
      "_________________________________________________________________\n",
      " Layer (type)                Output Shape              Param #   \n",
      "=================================================================\n",
      " lstm (LSTM)                 (None, 32)                5504      \n",
      "                                                                 \n",
      " dropout (Dropout)           (None, 32)                0         \n",
      "                                                                 \n",
      " dense (Dense)               (None, 1)                 33        \n",
      "                                                                 \n",
      "=================================================================\n",
      "Total params: 5,537\n",
      "Trainable params: 5,537\n",
      "Non-trainable params: 0\n",
      "_________________________________________________________________\n",
      "Epoch 1/10\n",
      "1381/1381 [==============================] - 9s 5ms/step - loss: 0.4567 - accuracy: 0.7609 - val_loss: 0.3907 - val_accuracy: 0.8041\n",
      "Epoch 2/10\n",
      "1381/1381 [==============================] - 7s 5ms/step - loss: 0.3782 - accuracy: 0.8064 - val_loss: 0.3687 - val_accuracy: 0.8140\n",
      "Epoch 3/10\n",
      "1381/1381 [==============================] - 7s 5ms/step - loss: 0.3416 - accuracy: 0.8301 - val_loss: 0.3441 - val_accuracy: 0.8395\n",
      "Epoch 4/10\n",
      "1381/1381 [==============================] - 7s 5ms/step - loss: 0.3138 - accuracy: 0.8491 - val_loss: 0.3010 - val_accuracy: 0.8557\n",
      "Epoch 5/10\n",
      "1381/1381 [==============================] - 7s 5ms/step - loss: 0.2917 - accuracy: 0.8628 - val_loss: 0.2958 - val_accuracy: 0.8594\n",
      "Epoch 6/10\n",
      "1381/1381 [==============================] - 7s 5ms/step - loss: 0.2765 - accuracy: 0.8714 - val_loss: 0.2790 - val_accuracy: 0.8680\n",
      "Epoch 7/10\n",
      "1381/1381 [==============================] - 7s 5ms/step - loss: 0.2574 - accuracy: 0.8831 - val_loss: 0.2517 - val_accuracy: 0.8899\n",
      "Epoch 8/10\n",
      "1381/1381 [==============================] - 7s 5ms/step - loss: 0.2446 - accuracy: 0.8923 - val_loss: 0.2369 - val_accuracy: 0.8956\n",
      "Epoch 9/10\n",
      "1381/1381 [==============================] - 7s 5ms/step - loss: 0.2274 - accuracy: 0.9003 - val_loss: 0.2439 - val_accuracy: 0.8933\n",
      "Epoch 10/10\n",
      "1381/1381 [==============================] - 7s 5ms/step - loss: 0.2186 - accuracy: 0.9031 - val_loss: 0.2296 - val_accuracy: 0.9010\n"
     ]
    },
    {
     "data": {
      "text/plain": [
       "<keras.callbacks.History at 0x7fafd1cb7e50>"
      ]
     },
     "execution_count": 5,
     "metadata": {},
     "output_type": "execute_result"
    }
   ],
   "source": [
    "LSTM_NEURONS = 32\n",
    "DROPOUT = 0\n",
    "EPOCHS = 10\n",
    "OPTIM = 'adam'\n",
    "# LOSS = 'binary_crossentropy'\n",
    "LOSS = BinaryCrossentropy(from_logits=False)\n",
    "\n",
    "n_inputRows = xTrain.shape[0] \n",
    "n_timesteps = xTrain.shape[1]\n",
    "n_features = xTrain.shape[2]\n",
    "\n",
    "def LSTM_Model(neuro, drop, loss, optim, step, feat):\n",
    "  model = Sequential()\n",
    "  model.add(LSTM(neuro, return_sequences=False, batch_input_shape=(None, step, feat)))\n",
    "  \n",
    "  model.add(Dropout(drop))\n",
    "  model.add(Dense(1, activation='sigmoid')) #softmax\n",
    "\n",
    "  model.compile(loss=loss, optimizer=optim, metrics=['accuracy'])\n",
    "  return model\n",
    "\n",
    "MODEL = LSTM_Model(LSTM_NEURONS, DROPOUT, LOSS, OPTIM, n_timesteps, n_features)\n",
    "MODEL.summary()\n",
    "MODEL.fit(xTrain, yTrain, validation_data=(xTest, yTest), epochs=EPOCHS, verbose=1)\n"
   ]
  },
  {
   "cell_type": "code",
   "execution_count": 6,
   "metadata": {},
   "outputs": [
    {
     "name": "stdout",
     "output_type": "stream",
     "text": [
      "8/8 [==============================] - 0s 2ms/step\n",
      "Accuracy:  0.876\n"
     ]
    }
   ],
   "source": [
    "prediction = MODEL.predict(xTest[0:250])\n",
    "label = yTest[0:250]\n",
    "\n",
    "for i in range(len(prediction)):\n",
    "  if prediction[i] > 0.5:\n",
    "    prediction[i] = 1\n",
    "  else:\n",
    "    prediction[i] = 0\n",
    "\n",
    "accuracy = 0\n",
    "for i in range(len(label)):\n",
    "  if prediction[i] == label[i]:\n",
    "    accuracy += 1\n",
    "  \n",
    "print(\"Accuracy: \", accuracy/len(label))"
   ]
  },
  {
   "cell_type": "code",
   "execution_count": 16,
   "metadata": {},
   "outputs": [
    {
     "name": "stdout",
     "output_type": "stream",
     "text": [
      "11/11 [==============================] - 0s 2ms/step\n",
      "test.csv  accuracy:  0.7363896848137536  label:  0\n",
      "39/39 [==============================] - 0s 1ms/step\n",
      "test4.csv  accuracy:  0.33387227162489896  label:  0\n",
      "35/35 [==============================] - 0s 1ms/step\n",
      "test5.csv  accuracy:  0.09332113449222323  label:  0\n",
      "34/34 [==============================] - 0s 1ms/step\n",
      "test2.csv  accuracy:  0.48402255639097747  label:  0\n",
      "23/23 [==============================] - 0s 1ms/step\n",
      "test3.csv  accuracy:  0.4201909959072306  label:  0\n",
      "17/17 [==============================] - 0s 2ms/step\n",
      "test1.csv  accuracy:  0.005628517823639775  label:  0\n"
     ]
    }
   ],
   "source": [
    "import importlib\n",
    "importlib.reload(test_lstm)\n",
    "\n",
    "lie_test_path = './test/Deceptive/processed/'\n",
    "label = 0\n",
    "\n",
    "prediction_test = test_lstm.perdictSingleVideo(lie_test_path, MODEL, label, numOfFrames=10)"
   ]
  }
 ],
 "metadata": {
  "kernelspec": {
   "display_name": "Python 3.8.3 ('base')",
   "language": "python",
   "name": "python3"
  },
  "language_info": {
   "codemirror_mode": {
    "name": "ipython",
    "version": 3
   },
   "file_extension": ".py",
   "mimetype": "text/x-python",
   "name": "python",
   "nbconvert_exporter": "python",
   "pygments_lexer": "ipython3",
   "version": "3.8.3"
  },
  "vscode": {
   "interpreter": {
    "hash": "24b17b925cb255c3f5f9d44279af6acbce2f518dd20c49d83bc1f6775a53d6cb"
   }
  }
 },
 "nbformat": 4,
 "nbformat_minor": 2
}
