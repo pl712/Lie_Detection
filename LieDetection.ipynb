{
 "cells": [
  {
   "cell_type": "code",
   "execution_count": 1,
   "metadata": {},
   "outputs": [
    {
     "name": "stderr",
     "output_type": "stream",
     "text": [
      "2022-11-18 13:32:39.502272: I tensorflow/core/platform/cpu_feature_guard.cc:193] This TensorFlow binary is optimized with oneAPI Deep Neural Network Library (oneDNN) to use the following CPU instructions in performance-critical operations:  AVX2 FMA\n",
      "To enable them in other operations, rebuild TensorFlow with the appropriate compiler flags.\n"
     ]
    }
   ],
   "source": [
    "import pandas as pd\n",
    "import tensorflow as tf\n",
    "import glob\n",
    "import os\n",
    "import numpy as np\n",
    "import sklearn.metrics as sk\n",
    "import tensorflow_datasets as tfds\n",
    "from sklearn.ensemble import RandomForestClassifier\n",
    "from sklearn.preprocessing import MinMaxScaler\n",
    "from sklearn.model_selection import train_test_split\n",
    "\n",
    "from tensorflow.keras.models import Sequential\n",
    "from tensorflow.keras.layers import Dense, Dropout, LSTM\n",
    "from tensorflow.keras.losses import BinaryCrossentropy\n",
    "\n",
    "import seaborn as sns\n",
    "import helpers\n",
    "import dataset\n",
    "import matplotlib.pyplot as plt\n",
    "\n",
    "os.environ['TF_CPP_MIN_LOG_LEVEL'] = '2' "
   ]
  },
  {
   "cell_type": "code",
   "execution_count": 2,
   "metadata": {},
   "outputs": [],
   "source": [
    "lie_trial_path = './processed_lie/' #60 entries\n",
    "truth_trial_path = './processed_truth/' #61 entries\n",
    "\n",
    "# MU3D_path = '/Users/frank/Downloads/dataSets/MU3D-dataset/processed/' # 320 entries"
   ]
  },
  {
   "cell_type": "code",
   "execution_count": 3,
   "metadata": {
    "scrolled": true
   },
   "outputs": [
    {
     "name": "stdout",
     "output_type": "stream",
     "text": [
      "CSV file ./processed_lie/trial_lie_007.csv only has 15 columns\n"
     ]
    }
   ],
   "source": [
    "X, Y = dataset.path_preprocessing(truth_trial_path, lie_trial_path)"
   ]
  },
  {
   "cell_type": "code",
   "execution_count": 4,
   "metadata": {},
   "outputs": [],
   "source": [
    "TEST_RATIO = 0.2\n",
    "\n",
    "xTrain, xTest = train_test_split(X, test_size=TEST_RATIO, shuffle=False)\n",
    "yTrain, yTest = train_test_split(Y, test_size=TEST_RATIO, shuffle=False)"
   ]
  },
  {
   "cell_type": "code",
   "execution_count": 5,
   "metadata": {},
   "outputs": [
    {
     "name": "stdout",
     "output_type": "stream",
     "text": [
      "Model: \"sequential\"\n",
      "_________________________________________________________________\n",
      " Layer (type)                Output Shape              Param #   \n",
      "=================================================================\n",
      " lstm (LSTM)                 (None, 32)                6272      \n",
      "                                                                 \n",
      " dense (Dense)               (None, 1)                 33        \n",
      "                                                                 \n",
      "=================================================================\n",
      "Total params: 6,305\n",
      "Trainable params: 6,305\n",
      "Non-trainable params: 0\n",
      "_________________________________________________________________\n",
      "Epoch 1/10\n",
      "1506/1506 [==============================] - 8s 4ms/step - loss: 0.0952 - accuracy: 0.9563 - val_loss: 0.0196 - val_accuracy: 0.9933\n",
      "Epoch 2/10\n",
      "1506/1506 [==============================] - 5s 3ms/step - loss: 0.0231 - accuracy: 0.9928 - val_loss: 0.0093 - val_accuracy: 0.9971\n",
      "Epoch 3/10\n",
      "1506/1506 [==============================] - 5s 3ms/step - loss: 0.0117 - accuracy: 0.9957 - val_loss: 0.0048 - val_accuracy: 0.9986\n",
      "Epoch 4/10\n",
      "1506/1506 [==============================] - 5s 3ms/step - loss: 0.0076 - accuracy: 0.9975 - val_loss: 0.0081 - val_accuracy: 0.9975\n",
      "Epoch 5/10\n",
      "1506/1506 [==============================] - 5s 3ms/step - loss: 0.0049 - accuracy: 0.9983 - val_loss: 0.0039 - val_accuracy: 0.9987\n",
      "Epoch 6/10\n",
      "1506/1506 [==============================] - 10s 6ms/step - loss: 0.0038 - accuracy: 0.9989 - val_loss: 0.2668 - val_accuracy: 0.9358\n",
      "Epoch 7/10\n",
      "1506/1506 [==============================] - 6s 4ms/step - loss: 0.0033 - accuracy: 0.9991 - val_loss: 6.1663e-04 - val_accuracy: 0.9998\n",
      "Epoch 8/10\n",
      "1506/1506 [==============================] - 6s 4ms/step - loss: 0.0016 - accuracy: 0.9995 - val_loss: 0.0015 - val_accuracy: 0.9997\n",
      "Epoch 9/10\n",
      "1506/1506 [==============================] - 6s 4ms/step - loss: 0.0013 - accuracy: 0.9997 - val_loss: 7.5799e-05 - val_accuracy: 1.0000\n",
      "Epoch 10/10\n",
      "1506/1506 [==============================] - 6s 4ms/step - loss: 5.8712e-05 - accuracy: 1.0000 - val_loss: 2.4069e-05 - val_accuracy: 1.0000\n"
     ]
    },
    {
     "data": {
      "text/plain": [
       "<keras.callbacks.History at 0x7fb53f987a60>"
      ]
     },
     "execution_count": 5,
     "metadata": {},
     "output_type": "execute_result"
    }
   ],
   "source": [
    "LSTM_NEURONS = 32\n",
    "DROPOUT = 0\n",
    "EPOCHS = 10\n",
    "OPTIM = 'adam'\n",
    "# LOSS = 'binary_crossentropy'\n",
    "LOSS = BinaryCrossentropy(from_logits=True)\n",
    "\n",
    "n_inputRows = xTrain.shape[0] \n",
    "n_timesteps = xTrain.shape[1]\n",
    "n_features = xTrain.shape[2]\n",
    "\n",
    "def LSTM_Model(neuro, drop, loss, optim, step, feat):\n",
    "  model = Sequential()\n",
    "  model.add(LSTM(neuro, return_sequences=False, batch_input_shape=(None, step, feat)))\n",
    "\n",
    "  # model.add(Dropout(drop))\n",
    "  model.add(Dense(1, activation='linear')) #softmax\n",
    "\n",
    "  #model.add(Lambda(lambda x: tf.cast(tf.argmax(x), tf.float32)))\n",
    "  #model.add(Dense(1, activation=activ))\n",
    "\n",
    "  model.compile(loss=loss, optimizer=optim, metrics=['accuracy'])\n",
    "  return model\n",
    "\n",
    "MODEL = LSTM_Model(LSTM_NEURONS, DROPOUT, LOSS, OPTIM, n_timesteps, n_features)\n",
    "MODEL.summary()\n",
    "MODEL.fit(xTrain, yTrain, validation_data=(xTest, yTest), epochs=EPOCHS, verbose=1)\n"
   ]
  }
 ],
 "metadata": {
  "kernelspec": {
   "display_name": "Python 3.8.3 ('base')",
   "language": "python",
   "name": "python3"
  },
  "language_info": {
   "codemirror_mode": {
    "name": "ipython",
    "version": 3
   },
   "file_extension": ".py",
   "mimetype": "text/x-python",
   "name": "python",
   "nbconvert_exporter": "python",
   "pygments_lexer": "ipython3",
   "version": "3.8.3"
  },
  "vscode": {
   "interpreter": {
    "hash": "24b17b925cb255c3f5f9d44279af6acbce2f518dd20c49d83bc1f6775a53d6cb"
   }
  }
 },
 "nbformat": 4,
 "nbformat_minor": 2
}
