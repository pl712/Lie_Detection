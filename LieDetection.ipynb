{
 "cells": [
  {
   "cell_type": "code",
   "execution_count": 1,
   "metadata": {},
   "outputs": [
    {
     "name": "stderr",
     "output_type": "stream",
     "text": [
      "2022-11-18 16:58:58.144005: I tensorflow/core/platform/cpu_feature_guard.cc:193] This TensorFlow binary is optimized with oneAPI Deep Neural Network Library (oneDNN) to use the following CPU instructions in performance-critical operations:  AVX2 AVX512F AVX512_VNNI FMA\n",
      "To enable them in other operations, rebuild TensorFlow with the appropriate compiler flags.\n",
      "2022-11-18 16:58:58.280203: I tensorflow/core/util/util.cc:169] oneDNN custom operations are on. You may see slightly different numerical results due to floating-point round-off errors from different computation orders. To turn them off, set the environment variable `TF_ENABLE_ONEDNN_OPTS=0`.\n",
      "2022-11-18 16:58:58.311573: E tensorflow/stream_executor/cuda/cuda_blas.cc:2981] Unable to register cuBLAS factory: Attempting to register factory for plugin cuBLAS when one has already been registered\n",
      "2022-11-18 16:58:58.811067: W tensorflow/stream_executor/platform/default/dso_loader.cc:64] Could not load dynamic library 'libnvinfer.so.7'; dlerror: libnvinfer.so.7: cannot open shared object file: No such file or directory; LD_LIBRARY_PATH: /usr/local/cuda-11.7/lib64:\n",
      "2022-11-18 16:58:58.811159: W tensorflow/stream_executor/platform/default/dso_loader.cc:64] Could not load dynamic library 'libnvinfer_plugin.so.7'; dlerror: libnvinfer_plugin.so.7: cannot open shared object file: No such file or directory; LD_LIBRARY_PATH: /usr/local/cuda-11.7/lib64:\n",
      "2022-11-18 16:58:58.811165: W tensorflow/compiler/tf2tensorrt/utils/py_utils.cc:38] TF-TRT Warning: Cannot dlopen some TensorRT libraries. If you would like to use Nvidia GPU with TensorRT, please make sure the missing libraries mentioned above are installed properly.\n"
     ]
    }
   ],
   "source": [
    "import pandas as pd\n",
    "import tensorflow as tf\n",
    "import glob\n",
    "import os\n",
    "import numpy as np\n",
    "import sklearn.metrics as sk\n",
    "import tensorflow_datasets as tfds\n",
    "from sklearn.ensemble import RandomForestClassifier\n",
    "from sklearn.preprocessing import MinMaxScaler\n",
    "from sklearn.model_selection import train_test_split\n",
    "\n",
    "from tensorflow.keras.models import Sequential\n",
    "from tensorflow.keras.layers import Dense, Dropout, LSTM\n",
    "from tensorflow.keras.losses import BinaryCrossentropy\n",
    "\n",
    "import seaborn as sns\n",
    "import helpers\n",
    "import dataset\n",
    "import matplotlib.pyplot as plt\n",
    "\n",
    "os.environ['TF_CPP_MIN_LOG_LEVEL'] = '2' "
   ]
  },
  {
   "cell_type": "code",
   "execution_count": 2,
   "metadata": {},
   "outputs": [],
   "source": [
    "lie_trial_path = './processed_lie/' #60 entries\n",
    "truth_trial_path = './processed_truth/' #61 entries\n",
    "\n",
    "# MU3D_path = '/Users/frank/Downloads/dataSets/MU3D-dataset/processed/' # 320 entries"
   ]
  },
  {
   "cell_type": "code",
   "execution_count": 3,
   "metadata": {
    "scrolled": true
   },
   "outputs": [
    {
     "name": "stdout",
     "output_type": "stream",
     "text": [
      "CSV file ./processed_lie/trial_lie_007.csv only has 15 columns\n"
     ]
    }
   ],
   "source": [
    "X, Y = dataset.path_preprocessing(truth_trial_path, lie_trial_path)"
   ]
  },
  {
   "cell_type": "code",
   "execution_count": 4,
   "metadata": {},
   "outputs": [],
   "source": [
    "TEST_RATIO = 0.2\n",
    "\n",
    "xTrain, xTest = train_test_split(X, test_size=TEST_RATIO, shuffle=False)\n",
    "yTrain, yTest = train_test_split(Y, test_size=TEST_RATIO, shuffle=False)"
   ]
  },
  {
   "cell_type": "code",
   "execution_count": 5,
   "metadata": {},
   "outputs": [
    {
     "name": "stderr",
     "output_type": "stream",
     "text": [
      "2022-11-18 16:59:25.171767: I tensorflow/stream_executor/cuda/cuda_gpu_executor.cc:980] successful NUMA node read from SysFS had negative value (-1), but there must be at least one NUMA node, so returning NUMA node zero\n",
      "2022-11-18 16:59:25.202008: I tensorflow/stream_executor/cuda/cuda_gpu_executor.cc:980] successful NUMA node read from SysFS had negative value (-1), but there must be at least one NUMA node, so returning NUMA node zero\n",
      "2022-11-18 16:59:25.202210: I tensorflow/stream_executor/cuda/cuda_gpu_executor.cc:980] successful NUMA node read from SysFS had negative value (-1), but there must be at least one NUMA node, so returning NUMA node zero\n",
      "2022-11-18 16:59:25.202986: I tensorflow/core/platform/cpu_feature_guard.cc:193] This TensorFlow binary is optimized with oneAPI Deep Neural Network Library (oneDNN) to use the following CPU instructions in performance-critical operations:  AVX2 AVX512F AVX512_VNNI FMA\n",
      "To enable them in other operations, rebuild TensorFlow with the appropriate compiler flags.\n",
      "2022-11-18 16:59:25.203529: I tensorflow/stream_executor/cuda/cuda_gpu_executor.cc:980] successful NUMA node read from SysFS had negative value (-1), but there must be at least one NUMA node, so returning NUMA node zero\n",
      "2022-11-18 16:59:25.203719: I tensorflow/stream_executor/cuda/cuda_gpu_executor.cc:980] successful NUMA node read from SysFS had negative value (-1), but there must be at least one NUMA node, so returning NUMA node zero\n",
      "2022-11-18 16:59:25.203853: I tensorflow/stream_executor/cuda/cuda_gpu_executor.cc:980] successful NUMA node read from SysFS had negative value (-1), but there must be at least one NUMA node, so returning NUMA node zero\n",
      "2022-11-18 16:59:25.913240: I tensorflow/stream_executor/cuda/cuda_gpu_executor.cc:980] successful NUMA node read from SysFS had negative value (-1), but there must be at least one NUMA node, so returning NUMA node zero\n",
      "2022-11-18 16:59:25.913474: I tensorflow/stream_executor/cuda/cuda_gpu_executor.cc:980] successful NUMA node read from SysFS had negative value (-1), but there must be at least one NUMA node, so returning NUMA node zero\n",
      "2022-11-18 16:59:25.913618: I tensorflow/stream_executor/cuda/cuda_gpu_executor.cc:980] successful NUMA node read from SysFS had negative value (-1), but there must be at least one NUMA node, so returning NUMA node zero\n",
      "2022-11-18 16:59:25.913756: I tensorflow/core/common_runtime/gpu/gpu_device.cc:1616] Created device /job:localhost/replica:0/task:0/device:GPU:0 with 44168 MB memory:  -> device: 0, name: Quadro RTX 8000, pci bus id: 0000:05:00.0, compute capability: 7.5\n"
     ]
    },
    {
     "name": "stdout",
     "output_type": "stream",
     "text": [
      "Model: \"sequential\"\n",
      "_________________________________________________________________\n",
      " Layer (type)                Output Shape              Param #   \n",
      "=================================================================\n",
      " lstm (LSTM)                 (None, 32)                6272      \n",
      "                                                                 \n",
      " dense (Dense)               (None, 1)                 33        \n",
      "                                                                 \n",
      "=================================================================\n",
      "Total params: 6,305\n",
      "Trainable params: 6,305\n",
      "Non-trainable params: 0\n",
      "_________________________________________________________________\n",
      "Epoch 1/10\n"
     ]
    },
    {
     "name": "stderr",
     "output_type": "stream",
     "text": [
      "2022-11-18 16:59:28.801227: I tensorflow/stream_executor/cuda/cuda_dnn.cc:384] Loaded cuDNN version 8401\n"
     ]
    },
    {
     "name": "stdout",
     "output_type": "stream",
     "text": [
      "1506/1506 [==============================] - 8s 4ms/step - loss: 0.1038 - accuracy: 0.9501 - val_loss: 0.0438 - val_accuracy: 0.9824\n",
      "Epoch 2/10\n",
      "1506/1506 [==============================] - 6s 4ms/step - loss: 0.0203 - accuracy: 0.9931 - val_loss: 0.0084 - val_accuracy: 0.9978\n",
      "Epoch 3/10\n",
      "1506/1506 [==============================] - 5s 4ms/step - loss: 0.0120 - accuracy: 0.9962 - val_loss: 0.0057 - val_accuracy: 0.9983\n",
      "Epoch 4/10\n",
      "1506/1506 [==============================] - 5s 3ms/step - loss: 0.0081 - accuracy: 0.9974 - val_loss: 0.0027 - val_accuracy: 0.9993\n",
      "Epoch 5/10\n",
      "1506/1506 [==============================] - 5s 3ms/step - loss: 0.0043 - accuracy: 0.9987 - val_loss: 0.0027 - val_accuracy: 0.9993\n",
      "Epoch 6/10\n",
      "1506/1506 [==============================] - 5s 4ms/step - loss: 0.0040 - accuracy: 0.9989 - val_loss: 7.5931e-04 - val_accuracy: 0.9997\n",
      "Epoch 7/10\n",
      "1506/1506 [==============================] - 5s 4ms/step - loss: 0.0017 - accuracy: 0.9995 - val_loss: 2.4582e-04 - val_accuracy: 1.0000\n",
      "Epoch 8/10\n",
      "1506/1506 [==============================] - 6s 4ms/step - loss: 0.0059 - accuracy: 0.9980 - val_loss: 0.0246 - val_accuracy: 0.9933\n",
      "Epoch 9/10\n",
      "1506/1506 [==============================] - 5s 4ms/step - loss: 0.0024 - accuracy: 0.9994 - val_loss: 3.6140e-04 - val_accuracy: 0.9998\n",
      "Epoch 10/10\n",
      "1506/1506 [==============================] - 5s 3ms/step - loss: 0.0045 - accuracy: 0.9989 - val_loss: 0.0010 - val_accuracy: 0.9999\n"
     ]
    },
    {
     "data": {
      "text/plain": [
       "<keras.callbacks.History at 0x7fb898c9ebe0>"
      ]
     },
     "execution_count": 5,
     "metadata": {},
     "output_type": "execute_result"
    }
   ],
   "source": [
    "LSTM_NEURONS = 32\n",
    "DROPOUT = 0\n",
    "EPOCHS = 10\n",
    "OPTIM = 'adam'\n",
    "# LOSS = 'binary_crossentropy'\n",
    "LOSS = BinaryCrossentropy(from_logits=True)\n",
    "\n",
    "n_inputRows = xTrain.shape[0] \n",
    "n_timesteps = xTrain.shape[1]\n",
    "n_features = xTrain.shape[2]\n",
    "\n",
    "def LSTM_Model(neuro, drop, loss, optim, step, feat):\n",
    "  model = Sequential()\n",
    "  model.add(LSTM(neuro, return_sequences=False, batch_input_shape=(None, step, feat)))\n",
    "\n",
    "  # model.add(Dropout(drop))\n",
    "  model.add(Dense(1, activation='linear')) #softmax\n",
    "\n",
    "  #model.add(Lambda(lambda x: tf.cast(tf.argmax(x), tf.float32)))\n",
    "  #model.add(Dense(1, activation=activ))\n",
    "\n",
    "  model.compile(loss=loss, optimizer=optim, metrics=['accuracy'])\n",
    "  return model\n",
    "\n",
    "MODEL = LSTM_Model(LSTM_NEURONS, DROPOUT, LOSS, OPTIM, n_timesteps, n_features)\n",
    "MODEL.summary()\n",
    "MODEL.fit(xTrain, yTrain, validation_data=(xTest, yTest), epochs=EPOCHS, verbose=1)\n"
   ]
  }
 ],
 "metadata": {
  "kernelspec": {
   "display_name": "Python [conda env:lies] *",
   "language": "python",
   "name": "conda-env-lies-py"
  },
  "language_info": {
   "codemirror_mode": {
    "name": "ipython",
    "version": 3
   },
   "file_extension": ".py",
   "mimetype": "text/x-python",
   "name": "python",
   "nbconvert_exporter": "python",
   "pygments_lexer": "ipython3",
   "version": "3.9.13"
  },
  "vscode": {
   "interpreter": {
    "hash": "24b17b925cb255c3f5f9d44279af6acbce2f518dd20c49d83bc1f6775a53d6cb"
   }
  }
 },
 "nbformat": 4,
 "nbformat_minor": 2
}
