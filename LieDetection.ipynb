{
 "cells": [
  {
   "cell_type": "code",
   "execution_count": 1,
   "metadata": {},
   "outputs": [
    {
     "name": "stderr",
     "output_type": "stream",
     "text": [
      "2023-03-16 18:40:41.082083: I tensorflow/core/platform/cpu_feature_guard.cc:193] This TensorFlow binary is optimized with oneAPI Deep Neural Network Library (oneDNN) to use the following CPU instructions in performance-critical operations:  AVX2 FMA\n",
      "To enable them in other operations, rebuild TensorFlow with the appropriate compiler flags.\n"
     ]
    }
   ],
   "source": [
    "import os\n",
    "from sklearn.model_selection import train_test_split\n",
    "\n",
    "from tensorflow.keras.models import Sequential\n",
    "from tensorflow.keras.layers import Dense, Dropout, LSTM\n",
    "from tensorflow.keras.losses import BinaryCrossentropy\n",
    "\n",
    "import dataset\n",
    "import test_lstm\n",
    "\n",
    "os.environ['TF_CPP_MIN_LOG_LEVEL'] = '2' "
   ]
  },
  {
   "cell_type": "code",
   "execution_count": 2,
   "metadata": {},
   "outputs": [],
   "source": [
    "lie_path = ['finalized_code/data/OpenFace/trial/lie/', 'finalized_code/data/OpenFace/MU3D/lie/', 'finalized_code/data/OpenFace/BOL/lie/'] #60 entries\n",
    "truth_path = ['finalized_code/data/OpenFace/trial/truth/', 'finalized_code/data/OpenFace/MU3D/lie/', 'finalized_code/data/OpenFace/BOL/truth/'] #61 entries"
   ]
  },
  {
   "cell_type": "code",
   "execution_count": 3,
   "metadata": {},
   "outputs": [
    {
     "name": "stdout",
     "output_type": "stream",
     "text": [
      "Processing finalized_code/data/OpenFace/trial/truth/\n",
      "Processing finalized_code/data/OpenFace/MU3D/lie/\n",
      "Processing finalized_code/data/OpenFace/BOL/truth/\n",
      "Processing finalized_code/data/OpenFace/trial/lie/\n",
      "Processing finalized_code/data/OpenFace/MU3D/lie/\n",
      "Processing finalized_code/data/OpenFace/BOL/lie/\n"
     ]
    }
   ],
   "source": [
    "# # no split by person\n",
    "X, Y = dataset.preprocessing(truth_path, lie_path, numOfFrames=20)\n",
    "\n",
    "TEST_RATIO = 0.2\n",
    "\n",
    "xTrain, xTest = train_test_split(X, test_size=TEST_RATIO, shuffle=False)\n",
    "yTrain, yTest = train_test_split(Y, test_size=TEST_RATIO, shuffle=False)"
   ]
  },
  {
   "cell_type": "code",
   "execution_count": 4,
   "metadata": {},
   "outputs": [],
   "source": [
    "# split by person\n",
    "# xTrain, yTrain, xTest, yTest = dataset.createDatasetLSTM(lie_trial_path, truth_trial_path, 0.2, byPerson=False)"
   ]
  },
  {
   "cell_type": "code",
   "execution_count": 5,
   "metadata": {},
   "outputs": [
    {
     "name": "stdout",
     "output_type": "stream",
     "text": [
      "Model: \"sequential\"\n",
      "_________________________________________________________________\n",
      " Layer (type)                Output Shape              Param #   \n",
      "=================================================================\n",
      " lstm (LSTM)                 (None, 32)                5504      \n",
      "                                                                 \n",
      " dropout (Dropout)           (None, 32)                0         \n",
      "                                                                 \n",
      " dense (Dense)               (None, 1)                 33        \n",
      "                                                                 \n",
      "=================================================================\n",
      "Total params: 5,537\n",
      "Trainable params: 5,537\n",
      "Non-trainable params: 0\n",
      "_________________________________________________________________\n",
      "Epoch 1/10\n",
      "11397/11397 [==============================] - 72s 6ms/step - loss: 0.6681 - accuracy: 0.5490 - val_loss: 0.6584 - val_accuracy: 0.5629\n",
      "Epoch 2/10\n",
      "11397/11397 [==============================] - 63s 6ms/step - loss: 0.6541 - accuracy: 0.5661 - val_loss: 0.6500 - val_accuracy: 0.5716\n",
      "Epoch 3/10\n",
      "11397/11397 [==============================] - 60s 5ms/step - loss: 0.6461 - accuracy: 0.5728 - val_loss: 0.6435 - val_accuracy: 0.5742\n",
      "Epoch 4/10\n",
      "11397/11397 [==============================] - 59s 5ms/step - loss: 0.6400 - accuracy: 0.5768 - val_loss: 0.6383 - val_accuracy: 0.5786\n",
      "Epoch 5/10\n",
      "11397/11397 [==============================] - 69s 6ms/step - loss: 0.6351 - accuracy: 0.5793 - val_loss: 0.6333 - val_accuracy: 0.5811\n",
      "Epoch 6/10\n",
      "11397/11397 [==============================] - 63s 6ms/step - loss: 0.6311 - accuracy: 0.5819 - val_loss: 0.6281 - val_accuracy: 0.5844\n",
      "Epoch 7/10\n",
      "11397/11397 [==============================] - 56s 5ms/step - loss: 0.6272 - accuracy: 0.5854 - val_loss: 0.6256 - val_accuracy: 0.5870\n",
      "Epoch 8/10\n",
      "11397/11397 [==============================] - 66s 6ms/step - loss: 0.6234 - accuracy: 0.5874 - val_loss: 0.6235 - val_accuracy: 0.5863\n",
      "Epoch 9/10\n",
      "11397/11397 [==============================] - 57s 5ms/step - loss: 0.6209 - accuracy: 0.5892 - val_loss: 0.6221 - val_accuracy: 0.5838\n",
      "Epoch 10/10\n",
      "11397/11397 [==============================] - 66s 6ms/step - loss: 0.6181 - accuracy: 0.5908 - val_loss: 0.6187 - val_accuracy: 0.5908\n"
     ]
    },
    {
     "data": {
      "text/plain": [
       "<keras.callbacks.History at 0x7fbc04e6bbe0>"
      ]
     },
     "execution_count": 5,
     "metadata": {},
     "output_type": "execute_result"
    }
   ],
   "source": [
    "LSTM_NEURONS = 32\n",
    "DROPOUT = 0\n",
    "EPOCHS = 10\n",
    "OPTIM = 'adam'\n",
    "# LOSS = 'binary_crossentropy'\n",
    "LOSS = BinaryCrossentropy(from_logits=False)\n",
    "\n",
    "n_inputRows = xTrain.shape[0] \n",
    "n_timesteps = xTrain.shape[1]\n",
    "n_features = xTrain.shape[2]\n",
    "\n",
    "def LSTM_Model(neuro, drop, loss, optim, step, feat):\n",
    "  model = Sequential()\n",
    "  model.add(LSTM(neuro, return_sequences=False, batch_input_shape=(None, step, feat)))\n",
    "  \n",
    "  model.add(Dropout(drop))\n",
    "  model.add(Dense(1, activation='sigmoid')) #softmax\n",
    "\n",
    "  model.compile(loss=loss, optimizer=optim, metrics=['accuracy'])\n",
    "  return model\n",
    "\n",
    "MODEL = LSTM_Model(LSTM_NEURONS, DROPOUT, LOSS, OPTIM, n_timesteps, n_features)\n",
    "MODEL.summary()\n",
    "MODEL.fit(xTrain, yTrain, validation_data=(xTest, yTest), epochs=EPOCHS, verbose=1)\n"
   ]
  },
  {
   "cell_type": "code",
   "execution_count": 8,
   "metadata": {},
   "outputs": [
    {
     "name": "stdout",
     "output_type": "stream",
     "text": [
      "8/8 [==============================] - 0s 4ms/step\n",
      "Accuracy:  0.584\n"
     ]
    }
   ],
   "source": [
    "prediction = MODEL.predict(xTest[0:250])\n",
    "label = yTest[0:250]\n",
    "\n",
    "for i in range(len(prediction)):\n",
    "  if prediction[i] > 0.5:\n",
    "    prediction[i] = 1\n",
    "  else:\n",
    "    prediction[i] = 0\n",
    "\n",
    "accuracy = 0\n",
    "for i in range(len(label)):\n",
    "  if prediction[i] == label[i]:\n",
    "    accuracy += 1\n",
    "  \n",
    "print(\"Accuracy: \", accuracy/len(label))"
   ]
  },
  {
   "cell_type": "code",
   "execution_count": 14,
   "metadata": {},
   "outputs": [
    {
     "name": "stdout",
     "output_type": "stream",
     "text": [
      "11/11 [==============================] - 0s 2ms/step\n",
      "test.csv  accuracy:  0.008595988538681949  label:  1\n",
      "39/39 [==============================] - 0s 2ms/step\n",
      "test4.csv  accuracy:  0.6378334680679062  label:  1\n",
      "35/35 [==============================] - 0s 2ms/step\n",
      "test5.csv  accuracy:  0.6294602012808783  label:  1\n",
      "34/34 [==============================] - 0s 2ms/step\n",
      "test2.csv  accuracy:  0.5864661654135338  label:  1\n",
      "23/23 [==============================] - 0s 3ms/step\n",
      "test3.csv  accuracy:  0.5334242837653479  label:  1\n",
      "17/17 [==============================] - 0s 2ms/step\n",
      "test1.csv  accuracy:  0.851782363977486  label:  1\n"
     ]
    }
   ],
   "source": [
    "import importlib\n",
    "importlib.reload(test_lstm)\n",
    "\n",
    "lie_test_path = './test/Deceptive/processed/'\n",
    "label = 1\n",
    "\n",
    "prediction_test = test_lstm.perdictSingleVideo(lie_test_path, MODEL, label, numOfFrames=10)"
   ]
  }
 ],
 "metadata": {
  "kernelspec": {
   "display_name": "Python 3.8.3 ('base')",
   "language": "python",
   "name": "python3"
  },
  "language_info": {
   "codemirror_mode": {
    "name": "ipython",
    "version": 3
   },
   "file_extension": ".py",
   "mimetype": "text/x-python",
   "name": "python",
   "nbconvert_exporter": "python",
   "pygments_lexer": "ipython3",
   "version": "3.8.3"
  },
  "vscode": {
   "interpreter": {
    "hash": "24b17b925cb255c3f5f9d44279af6acbce2f518dd20c49d83bc1f6775a53d6cb"
   }
  }
 },
 "nbformat": 4,
 "nbformat_minor": 2
}
